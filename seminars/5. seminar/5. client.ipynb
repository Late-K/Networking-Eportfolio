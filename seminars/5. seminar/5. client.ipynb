{
 "cells": [
  {
   "cell_type": "markdown",
   "metadata": {},
   "source": [
    "2. Building a Simple TCP Client \n",
    "\n",
    "A Simple TCP Client "
   ]
  },
  {
   "cell_type": "code",
   "execution_count": 4,
   "metadata": {},
   "outputs": [
    {
     "name": "stdout",
     "output_type": "stream",
     "text": [
      "Server response: ACK: hello\n"
     ]
    }
   ],
   "source": [
    "import socket \n",
    "\n",
    "client_socket = socket.socket(socket.AF_INET, socket.SOCK_STREAM) \n",
    "client_socket.connect(('localhost', 65432)) \n",
    "\n",
    "message = input(\"Enter message: \") \n",
    "client_socket.sendall(message.encode()) \n",
    "\n",
    "response = client_socket.recv(1024) \n",
    "print(f\"Server response: {response.decode()}\") \n",
    "\n",
    "client_socket.close() "
   ]
  },
  {
   "cell_type": "markdown",
   "metadata": {},
   "source": [
    "Exercise 1: Use python datetime library to measure how long it took to send the data. To do so you need to import it  "
   ]
  },
  {
   "cell_type": "code",
   "execution_count": null,
   "metadata": {},
   "outputs": [],
   "source": [
    "import socket \n",
    "import datetime\n",
    "\n",
    "client_socket = socket.socket(socket.AF_INET, socket.SOCK_STREAM) \n",
    "client_socket.connect(('localhost', 65432)) \n",
    "\n",
    "message = input(\"Enter message: \") \n",
    "client_socket.sendall(message.encode()) \n",
    "x = datetime.datetime.now()\n",
    "\n",
    "response = client_socket.recv(1024) \n",
    "print(f\"Server response: {response.decode()}\") \n",
    "print(datetime.datetime.now() - x)\n",
    "\n",
    "client_socket.close() "
   ]
  },
  {
   "cell_type": "markdown",
   "metadata": {},
   "source": [
    "Exercise 2: Change your script so that the data will be send using UDP and compare the time needed to send it using both protocols."
   ]
  },
  {
   "cell_type": "code",
   "execution_count": 7,
   "metadata": {},
   "outputs": [
    {
     "name": "stdout",
     "output_type": "stream",
     "text": [
      "Server response: ACK: hello\n",
      "0:00:00.001810\n"
     ]
    }
   ],
   "source": [
    "import socket \n",
    "import datetime\n",
    "\n",
    "client_socket = socket.socket(socket.AF_INET, socket.SOCK_DGRAM) \n",
    "client_socket.connect(('localhost', 65432)) \n",
    "\n",
    "message = input(\"Enter message: \") \n",
    "client_socket.sendall(message.encode()) \n",
    "x = datetime.datetime.now()\n",
    "\n",
    "response = client_socket.recv(1024) \n",
    "print(f\"Server response: {response.decode()}\") \n",
    "print(datetime.datetime.now() - x)\n",
    "\n",
    "client_socket.close() "
   ]
  },
  {
   "cell_type": "markdown",
   "metadata": {},
   "source": [
    "3. File Transfer Over TCP \n",
    "\n",
    "A TCP Client that can read data from txt files"
   ]
  },
  {
   "cell_type": "code",
   "execution_count": null,
   "metadata": {},
   "outputs": [],
   "source": [
    "import socket \n",
    "import datetime\n",
    "\n",
    "client_socket = socket.socket(socket.AF_INET, socket.SOCK_STREAM) \n",
    "client_socket.connect(('localhost', 65432)) \n",
    "\n",
    "# ... (Client setup code) \n",
    "with open('file_to_send.txt', 'rb') as f: \n",
    "    client_socket.sendfile(f) \n",
    "    \n",
    "x = datetime.datetime.now()\n",
    "\n",
    "response = client_socket.recv(1024) \n",
    "print(f\"Server response: {response.decode()}\") \n",
    "print(datetime.datetime.now() - x)\n",
    "\n",
    "client_socket.close() "
   ]
  },
  {
   "cell_type": "markdown",
   "metadata": {},
   "source": [
    "Exercise 4:  Resend the new txt file using UDP and compare \n",
    "the time needed."
   ]
  },
  {
   "cell_type": "code",
   "execution_count": null,
   "metadata": {},
   "outputs": [
    {
     "ename": "ValueError",
     "evalue": "only SOCK_STREAM type sockets are supported",
     "output_type": "error",
     "traceback": [
      "\u001b[1;31m---------------------------------------------------------------------------\u001b[0m",
      "\u001b[1;31m_GiveupOnSendfile\u001b[0m                         Traceback (most recent call last)",
      "File \u001b[1;32mc:\\Users\\kierm\\miniconda3\\Lib\\socket.py:487\u001b[0m, in \u001b[0;36msocket.sendfile\u001b[1;34m(self, file, offset, count)\u001b[0m\n\u001b[0;32m    486\u001b[0m \u001b[38;5;28;01mtry\u001b[39;00m:\n\u001b[1;32m--> 487\u001b[0m     \u001b[38;5;28;01mreturn\u001b[39;00m \u001b[38;5;28;43mself\u001b[39;49m\u001b[38;5;241;43m.\u001b[39;49m\u001b[43m_sendfile_use_sendfile\u001b[49m\u001b[43m(\u001b[49m\u001b[43mfile\u001b[49m\u001b[43m,\u001b[49m\u001b[43m \u001b[49m\u001b[43moffset\u001b[49m\u001b[43m,\u001b[49m\u001b[43m \u001b[49m\u001b[43mcount\u001b[49m\u001b[43m)\u001b[49m\n\u001b[0;32m    488\u001b[0m \u001b[38;5;28;01mexcept\u001b[39;00m _GiveupOnSendfile:\n",
      "File \u001b[1;32mc:\\Users\\kierm\\miniconda3\\Lib\\socket.py:416\u001b[0m, in \u001b[0;36msocket._sendfile_use_sendfile\u001b[1;34m(self, file, offset, count)\u001b[0m\n\u001b[0;32m    415\u001b[0m \u001b[38;5;28;01mdef\u001b[39;00m\u001b[38;5;250m \u001b[39m\u001b[38;5;21m_sendfile_use_sendfile\u001b[39m(\u001b[38;5;28mself\u001b[39m, file, offset\u001b[38;5;241m=\u001b[39m\u001b[38;5;241m0\u001b[39m, count\u001b[38;5;241m=\u001b[39m\u001b[38;5;28;01mNone\u001b[39;00m):\n\u001b[1;32m--> 416\u001b[0m     \u001b[38;5;28;01mraise\u001b[39;00m _GiveupOnSendfile(\n\u001b[0;32m    417\u001b[0m         \u001b[38;5;124m\"\u001b[39m\u001b[38;5;124mos.sendfile() not available on this platform\u001b[39m\u001b[38;5;124m\"\u001b[39m)\n",
      "\u001b[1;31m_GiveupOnSendfile\u001b[0m: os.sendfile() not available on this platform",
      "\nDuring handling of the above exception, another exception occurred:\n",
      "\u001b[1;31mValueError\u001b[0m                                Traceback (most recent call last)",
      "Cell \u001b[1;32mIn[2], line 9\u001b[0m\n\u001b[0;32m      7\u001b[0m \u001b[38;5;66;03m# ... (Client setup code) \u001b[39;00m\n\u001b[0;32m      8\u001b[0m \u001b[38;5;28;01mwith\u001b[39;00m \u001b[38;5;28mopen\u001b[39m(\u001b[38;5;124m'\u001b[39m\u001b[38;5;124mfile_to_send.txt\u001b[39m\u001b[38;5;124m'\u001b[39m, \u001b[38;5;124m'\u001b[39m\u001b[38;5;124mrb\u001b[39m\u001b[38;5;124m'\u001b[39m) \u001b[38;5;28;01mas\u001b[39;00m f: \n\u001b[1;32m----> 9\u001b[0m     \u001b[43mclient_socket\u001b[49m\u001b[38;5;241;43m.\u001b[39;49m\u001b[43msendfile\u001b[49m\u001b[43m(\u001b[49m\u001b[43mf\u001b[49m\u001b[43m)\u001b[49m \n\u001b[0;32m     11\u001b[0m x \u001b[38;5;241m=\u001b[39m datetime\u001b[38;5;241m.\u001b[39mdatetime\u001b[38;5;241m.\u001b[39mnow()\n\u001b[0;32m     13\u001b[0m response \u001b[38;5;241m=\u001b[39m client_socket\u001b[38;5;241m.\u001b[39mrecv(\u001b[38;5;241m1024\u001b[39m) \n",
      "File \u001b[1;32mc:\\Users\\kierm\\miniconda3\\Lib\\socket.py:489\u001b[0m, in \u001b[0;36msocket.sendfile\u001b[1;34m(self, file, offset, count)\u001b[0m\n\u001b[0;32m    487\u001b[0m     \u001b[38;5;28;01mreturn\u001b[39;00m \u001b[38;5;28mself\u001b[39m\u001b[38;5;241m.\u001b[39m_sendfile_use_sendfile(file, offset, count)\n\u001b[0;32m    488\u001b[0m \u001b[38;5;28;01mexcept\u001b[39;00m _GiveupOnSendfile:\n\u001b[1;32m--> 489\u001b[0m     \u001b[38;5;28;01mreturn\u001b[39;00m \u001b[38;5;28;43mself\u001b[39;49m\u001b[38;5;241;43m.\u001b[39;49m\u001b[43m_sendfile_use_send\u001b[49m\u001b[43m(\u001b[49m\u001b[43mfile\u001b[49m\u001b[43m,\u001b[49m\u001b[43m \u001b[49m\u001b[43moffset\u001b[49m\u001b[43m,\u001b[49m\u001b[43m \u001b[49m\u001b[43mcount\u001b[49m\u001b[43m)\u001b[49m\n",
      "File \u001b[1;32mc:\\Users\\kierm\\miniconda3\\Lib\\socket.py:420\u001b[0m, in \u001b[0;36msocket._sendfile_use_send\u001b[1;34m(self, file, offset, count)\u001b[0m\n\u001b[0;32m    419\u001b[0m \u001b[38;5;28;01mdef\u001b[39;00m\u001b[38;5;250m \u001b[39m\u001b[38;5;21m_sendfile_use_send\u001b[39m(\u001b[38;5;28mself\u001b[39m, file, offset\u001b[38;5;241m=\u001b[39m\u001b[38;5;241m0\u001b[39m, count\u001b[38;5;241m=\u001b[39m\u001b[38;5;28;01mNone\u001b[39;00m):\n\u001b[1;32m--> 420\u001b[0m     \u001b[38;5;28;43mself\u001b[39;49m\u001b[38;5;241;43m.\u001b[39;49m\u001b[43m_check_sendfile_params\u001b[49m\u001b[43m(\u001b[49m\u001b[43mfile\u001b[49m\u001b[43m,\u001b[49m\u001b[43m \u001b[49m\u001b[43moffset\u001b[49m\u001b[43m,\u001b[49m\u001b[43m \u001b[49m\u001b[43mcount\u001b[49m\u001b[43m)\u001b[49m\n\u001b[0;32m    421\u001b[0m     \u001b[38;5;28;01mif\u001b[39;00m \u001b[38;5;28mself\u001b[39m\u001b[38;5;241m.\u001b[39mgettimeout() \u001b[38;5;241m==\u001b[39m \u001b[38;5;241m0\u001b[39m:\n\u001b[0;32m    422\u001b[0m         \u001b[38;5;28;01mraise\u001b[39;00m \u001b[38;5;167;01mValueError\u001b[39;00m(\u001b[38;5;124m\"\u001b[39m\u001b[38;5;124mnon-blocking sockets are not supported\u001b[39m\u001b[38;5;124m\"\u001b[39m)\n",
      "File \u001b[1;32mc:\\Users\\kierm\\miniconda3\\Lib\\socket.py:459\u001b[0m, in \u001b[0;36msocket._check_sendfile_params\u001b[1;34m(self, file, offset, count)\u001b[0m\n\u001b[0;32m    457\u001b[0m     \u001b[38;5;28;01mraise\u001b[39;00m \u001b[38;5;167;01mValueError\u001b[39;00m(\u001b[38;5;124m\"\u001b[39m\u001b[38;5;124mfile should be opened in binary mode\u001b[39m\u001b[38;5;124m\"\u001b[39m)\n\u001b[0;32m    458\u001b[0m \u001b[38;5;28;01mif\u001b[39;00m \u001b[38;5;129;01mnot\u001b[39;00m \u001b[38;5;28mself\u001b[39m\u001b[38;5;241m.\u001b[39mtype \u001b[38;5;241m&\u001b[39m SOCK_STREAM:\n\u001b[1;32m--> 459\u001b[0m     \u001b[38;5;28;01mraise\u001b[39;00m \u001b[38;5;167;01mValueError\u001b[39;00m(\u001b[38;5;124m\"\u001b[39m\u001b[38;5;124monly SOCK_STREAM type sockets are supported\u001b[39m\u001b[38;5;124m\"\u001b[39m)\n\u001b[0;32m    460\u001b[0m \u001b[38;5;28;01mif\u001b[39;00m count \u001b[38;5;129;01mis\u001b[39;00m \u001b[38;5;129;01mnot\u001b[39;00m \u001b[38;5;28;01mNone\u001b[39;00m:\n\u001b[0;32m    461\u001b[0m     \u001b[38;5;28;01mif\u001b[39;00m \u001b[38;5;129;01mnot\u001b[39;00m \u001b[38;5;28misinstance\u001b[39m(count, \u001b[38;5;28mint\u001b[39m):\n",
      "\u001b[1;31mValueError\u001b[0m: only SOCK_STREAM type sockets are supported"
     ]
    }
   ],
   "source": [
    "import socket \n",
    "import datetime\n",
    "\n",
    "client_socket = socket.socket(socket.AF_INET, socket.SOCK_DGRAM) \n",
    "client_socket.connect(('localhost', 65432)) \n",
    "\n",
    "# ... (Client setup code) \n",
    "with open('file_to_send.txt', 'rb') as f: \n",
    "    client_socket.sendfile(f) \n",
    "    \n",
    "x = datetime.datetime.now()\n",
    "\n",
    "response = client_socket.recv(1024) \n",
    "print(f\"Server response: {response.decode()}\") \n",
    "print(datetime.datetime.now() - x)\n",
    "\n",
    "client_socket.close() "
   ]
  },
  {
   "cell_type": "markdown",
   "metadata": {},
   "source": [
    "Client to send png images instead of txt"
   ]
  },
  {
   "cell_type": "code",
   "execution_count": null,
   "metadata": {},
   "outputs": [
    {
     "name": "stdout",
     "output_type": "stream",
     "text": [
      "Server response\n",
      "0:00:00.003070\n"
     ]
    }
   ],
   "source": [
    "import socket\n",
    "import datetime\n",
    "\n",
    "client_socket = socket.socket(socket.AF_INET, socket.SOCK_STREAM)\n",
    "client_socket.connect(('localhost', 65432))\n",
    "\n",
    "# ... (Client setup code)\n",
    "with open('Clyde.png', 'rb') as f:\n",
    "    client_socket.sendfile(f)\n",
    "\n",
    "x = datetime.datetime.now() #Exercise 1: Use python datetime library to measure how long it took to send the data\n",
    "\n",
    "# message = input(\"Enter message: \")\n",
    "# client_socket.sendall(message.encode())\n",
    "# x = datetime.datetime.now()\n",
    "\n",
    "response = client_socket.recv(1024)\n",
    "print(f\"Server response\")\n",
    "print(datetime.datetime.now() - x)\n",
    "\n",
    "client_socket.close()\n"
   ]
  }
 ],
 "metadata": {
  "kernelspec": {
   "display_name": "base",
   "language": "python",
   "name": "python3"
  },
  "language_info": {
   "codemirror_mode": {
    "name": "ipython",
    "version": 3
   },
   "file_extension": ".py",
   "mimetype": "text/x-python",
   "name": "python",
   "nbconvert_exporter": "python",
   "pygments_lexer": "ipython3",
   "version": "3.12.5"
  }
 },
 "nbformat": 4,
 "nbformat_minor": 2
}
