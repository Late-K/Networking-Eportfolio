{
 "cells": [
  {
   "cell_type": "markdown",
   "metadata": {},
   "source": [
    "2. Building a Simple TCP Client \n",
    "\n",
    "A Simple TCP Client "
   ]
  },
  {
   "cell_type": "code",
   "execution_count": 4,
   "metadata": {},
   "outputs": [
    {
     "name": "stdout",
     "output_type": "stream",
     "text": [
      "Server response: ACK: hello\n"
     ]
    }
   ],
   "source": [
    "import socket \n",
    "\n",
    "client_socket = socket.socket(socket.AF_INET, socket.SOCK_STREAM) \n",
    "client_socket.connect(('localhost', 65432)) \n",
    "\n",
    "message = input(\"Enter message: \") \n",
    "client_socket.sendall(message.encode()) \n",
    "\n",
    "response = client_socket.recv(1024) \n",
    "print(f\"Server response: {response.decode()}\") \n",
    "\n",
    "client_socket.close() "
   ]
  },
  {
   "cell_type": "markdown",
   "metadata": {},
   "source": [
    "Exercise 1: Use python datetime library to measure how long it took to send the data. To do so you need to import it  "
   ]
  },
  {
   "cell_type": "code",
   "execution_count": null,
   "metadata": {},
   "outputs": [],
   "source": [
    "import socket \n",
    "import datetime\n",
    "\n",
    "client_socket = socket.socket(socket.AF_INET, socket.SOCK_STREAM) \n",
    "client_socket.connect(('localhost', 65432)) \n",
    "\n",
    "message = input(\"Enter message: \") \n",
    "client_socket.sendall(message.encode()) \n",
    "x = datetime.datetime.now()\n",
    "\n",
    "response = client_socket.recv(1024) \n",
    "print(f\"Server response: {response.decode()}\") \n",
    "print(datetime.datetime.now() - x)\n",
    "\n",
    "client_socket.close() "
   ]
  },
  {
   "cell_type": "markdown",
   "metadata": {},
   "source": [
    "Exercise 2: Change your script so that the data will be send using UDP and compare the time needed to send it using both protocols."
   ]
  },
  {
   "cell_type": "code",
   "execution_count": 7,
   "metadata": {},
   "outputs": [
    {
     "name": "stdout",
     "output_type": "stream",
     "text": [
      "Server response: ACK: hello\n",
      "0:00:00.001810\n"
     ]
    }
   ],
   "source": [
    "import socket \n",
    "import datetime\n",
    "\n",
    "client_socket = socket.socket(socket.AF_INET, socket.SOCK_DGRAM) \n",
    "client_socket.connect(('localhost', 65432)) \n",
    "\n",
    "message = input(\"Enter message: \") \n",
    "client_socket.sendall(message.encode()) \n",
    "x = datetime.datetime.now()\n",
    "\n",
    "response = client_socket.recv(1024) \n",
    "print(f\"Server response: {response.decode()}\") \n",
    "print(datetime.datetime.now() - x)\n",
    "\n",
    "client_socket.close() "
   ]
  },
  {
   "cell_type": "markdown",
   "metadata": {},
   "source": [
    "3. File Transfer Over TCP \n",
    "\n",
    "A TCP Client that can read data from txt files"
   ]
  },
  {
   "cell_type": "code",
   "execution_count": null,
   "metadata": {},
   "outputs": [],
   "source": [
    "import socket \n",
    "import datetime\n",
    "\n",
    "client_socket = socket.socket(socket.AF_INET, socket.SOCK_STREAM) \n",
    "client_socket.connect(('localhost', 65432)) \n",
    "\n",
    "# ... (Client setup code) \n",
    "with open('file_to_send.txt', 'rb') as f: \n",
    "    client_socket.sendfile(f) \n",
    "    \n",
    "x = datetime.datetime.now()\n",
    "\n",
    "response = client_socket.recv(1024) \n",
    "print(f\"Server response: {response.decode()}\") \n",
    "print(datetime.datetime.now() - x)\n",
    "\n",
    "client_socket.close() "
   ]
  },
  {
   "cell_type": "code",
   "execution_count": null,
   "metadata": {},
   "outputs": [
    {
     "name": "stdout",
     "output_type": "stream",
     "text": [
      "Server response\n",
      "0:00:00.003070\n"
     ]
    }
   ],
   "source": [
    "import socket\n",
    "import datetime\n",
    "\n",
    "client_socket = socket.socket(socket.AF_INET, socket.SOCK_STREAM)\n",
    "client_socket.connect(('localhost', 65432))\n",
    "\n",
    "# ... (Client setup code)\n",
    "with open('Clyde.png', 'rb') as f:\n",
    "    client_socket.sendfile(f)\n",
    "\n",
    "x = datetime.datetime.now() #Exercise 1: Use python datetime library to measure how long it took to send the data\n",
    "\n",
    "# message = input(\"Enter message: \")\n",
    "# client_socket.sendall(message.encode())\n",
    "# x = datetime.datetime.now()\n",
    "\n",
    "response = client_socket.recv(1024)\n",
    "print(f\"Server response\")\n",
    "print(datetime.datetime.now() - x)\n",
    "\n",
    "client_socket.close()\n"
   ]
  }
 ],
 "metadata": {
  "kernelspec": {
   "display_name": "base",
   "language": "python",
   "name": "python3"
  },
  "language_info": {
   "codemirror_mode": {
    "name": "ipython",
    "version": 3
   },
   "file_extension": ".py",
   "mimetype": "text/x-python",
   "name": "python",
   "nbconvert_exporter": "python",
   "pygments_lexer": "ipython3",
   "version": "3.12.5"
  }
 },
 "nbformat": 4,
 "nbformat_minor": 2
}
