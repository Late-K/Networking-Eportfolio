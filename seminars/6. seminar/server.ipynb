{
 "cells": [
  {
   "cell_type": "markdown",
   "metadata": {},
   "source": [
    "\n",
    "Exercise 5: use the client sever example from previous \n",
    "week to have a TCP server as DHCP server and create a client that would get \n",
    "the IP address from the server following the process above. "
   ]
  },
  {
   "cell_type": "code",
   "execution_count": null,
   "metadata": {},
   "outputs": [
    {
     "name": "stdout",
     "output_type": "stream",
     "text": [
      "\n",
      "[SERVER] Waiting for client connections...\n",
      "\n",
      "[SERVER] Handling client ('127.0.0.1', 53423)\n",
      "[SERVER] Received: DISCOVER\n",
      "[SERVER] Offering IP: 192.168.1.100\n",
      "[SERVER] Received: REQUEST: 192.168.1.100\n",
      "[SERVER] ACKing IP 192.168.1.100 to ('127.0.0.1', 53423)\n",
      "[SERVER] IP Leases: {('127.0.0.1', 53423): '192.168.1.100'}\n"
     ]
    }
   ],
   "source": [
    "import socket\n",
    "import threading\n",
    "\n",
    "# Server Configuration\n",
    "server = {\n",
    "    \"ip_pool\": [\"192.168.1.100\", \"192.168.1.101\", \"192.168.1.102\"],\n",
    "    \"leases\": {}\n",
    "}\n",
    "\n",
    "def handle_client(client_socket, client_address):\n",
    "    print(f\"\\n[SERVER] Handling client {client_address}\")\n",
    "    \n",
    "    data = client_socket.recv(1024).decode()\n",
    "    print(f\"[SERVER] Received: {data}\")\n",
    "    if data != \"DISCOVER\":\n",
    "        print(\"[SERVER] Invalid request.\")\n",
    "        client_socket.close()\n",
    "        return\n",
    "    \n",
    "    if not server[\"ip_pool\"]:\n",
    "        print(\"[SERVER] No IPs available!\")\n",
    "        client_socket.sendall(\"OFFER: No IP available\".encode())\n",
    "        client_socket.close()\n",
    "        return\n",
    "    \n",
    "    offered_ip = server[\"ip_pool\"].pop(0)\n",
    "    print(f\"[SERVER] Offering IP: {offered_ip}\")\n",
    "    client_socket.sendall(f\"OFFER: {offered_ip}\".encode())\n",
    "    \n",
    "    data = client_socket.recv(1024).decode()\n",
    "    print(f\"[SERVER] Received: {data}\")\n",
    "    if data != f\"REQUEST: {offered_ip}\":\n",
    "        print(\"[SERVER] Invalid request.\")\n",
    "        client_socket.close()\n",
    "        return\n",
    "    \n",
    "    server[\"leases\"][client_address] = offered_ip\n",
    "    print(f\"[SERVER] ACKing IP {offered_ip} to {client_address}\")\n",
    "    client_socket.sendall(f\"ACK: {offered_ip}\".encode())\n",
    "    \n",
    "    print(f\"[SERVER] IP Leases: {server['leases']}\")\n",
    "    \n",
    "    client_socket.close()\n",
    "\n",
    "server_socket = socket.socket(socket.AF_INET, socket.SOCK_STREAM)\n",
    "server_socket.bind(('localhost', 65432))\n",
    "server_socket.listen(5)\n",
    "\n",
    "print(\"\\n[SERVER] Waiting for client connections...\")\n",
    "\n",
    "def start_server():\n",
    "    while True:\n",
    "        client_socket, client_address = server_socket.accept()\n",
    "        client_thread = threading.Thread(target=handle_client, args=(client_socket, client_address))\n",
    "        client_thread.start()\n",
    "\n",
    "if __name__ == \"__main__\":\n",
    "    start_server()\n"
   ]
  }
 ],
 "metadata": {
  "kernelspec": {
   "display_name": "base",
   "language": "python",
   "name": "python3"
  },
  "language_info": {
   "codemirror_mode": {
    "name": "ipython",
    "version": 3
   },
   "file_extension": ".py",
   "mimetype": "text/x-python",
   "name": "python",
   "nbconvert_exporter": "python",
   "pygments_lexer": "ipython3",
   "version": "3.12.5"
  }
 },
 "nbformat": 4,
 "nbformat_minor": 2
}
