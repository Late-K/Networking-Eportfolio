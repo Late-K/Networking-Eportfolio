{
 "cells": [
  {
   "cell_type": "markdown",
   "metadata": {},
   "source": [
    "Exercise 1: Using the previous two scripts make a chat application in which clients can chat using a server. "
   ]
  },
  {
   "cell_type": "code",
   "execution_count": null,
   "metadata": {},
   "outputs": [
    {
     "name": "stdout",
     "output_type": "stream",
     "text": [
      "Server Response: Message received: Hello?\n",
      "Server Response: Message received: hi!\n"
     ]
    }
   ],
   "source": [
    "import socket\n",
    "\n",
    "client_socket = socket.socket(socket.AF_INET, socket.SOCK_DGRAM)\n",
    "\n",
    "server_address = ('localhost', 65433)\n",
    "\n",
    "while True:\n",
    "    message = input(\"Enter message: \")\n",
    "    \n",
    "    # Send message to the server\n",
    "    client_socket.sendto(message.encode(), server_address)\n",
    "    \n",
    "    if message.lower() == \"exit\":\n",
    "        break\n",
    "    \n",
    "    data, server = client_socket.recvfrom(2048)\n",
    "    print(f\"Server Response: {data.decode()}\")\n",
    "\n",
    "client_socket.close()\n"
   ]
  },
  {
   "cell_type": "markdown",
   "metadata": {},
   "source": [
    "Exercise 3: Add authentication step to the application in which the sever would ask the client for username and password to initiate the communication.  "
   ]
  },
  {
   "cell_type": "code",
   "execution_count": null,
   "metadata": {},
   "outputs": [],
   "source": [
    "import socket\n",
    "\n",
    "client_socket = socket.socket(socket.AF_INET, socket.SOCK_DGRAM)\n",
    "\n",
    "server_address = ('localhost', 65433)\n",
    "\n",
    "while True:\n",
    "    username = input(\"Enter username: \")\n",
    "    password = input(\"Enter password: \")\n",
    "    message = f\"LOGIN:{username}:{password}\"\n",
    "    \n",
    "    client_socket.sendto(message.encode(), server_address)\n",
    "    \n",
    "    data, server = client_socket.recvfrom(2048)\n",
    "    print(f\"Server Response: {data.decode()}\")\n",
    "\n",
    "    if data.decode() == \"Authentication successful. You can now chat.\":\n",
    "        break\n",
    "\n",
    "while True:\n",
    "    message = input(\"Enter message: \")\n",
    "    \n",
    "    # Send message to the server\n",
    "    client_socket.sendto(message.encode(), server_address)\n",
    "    \n",
    "    if message.lower() == \"exit\":\n",
    "        break\n",
    "    \n",
    "    data, server = client_socket.recvfrom(2048)\n",
    "    print(f\"Server Response: {data.decode()}\")\n",
    "\n",
    "client_socket.close()\n"
   ]
  }
 ],
 "metadata": {
  "kernelspec": {
   "display_name": "base",
   "language": "python",
   "name": "python3"
  },
  "language_info": {
   "codemirror_mode": {
    "name": "ipython",
    "version": 3
   },
   "file_extension": ".py",
   "mimetype": "text/x-python",
   "name": "python",
   "nbconvert_exporter": "python",
   "pygments_lexer": "ipython3",
   "version": "3.12.5"
  }
 },
 "nbformat": 4,
 "nbformat_minor": 2
}
