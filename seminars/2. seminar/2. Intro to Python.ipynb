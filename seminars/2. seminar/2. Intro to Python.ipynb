{
 "cells": [
  {
   "cell_type": "code",
   "execution_count": 1,
   "metadata": {},
   "outputs": [
    {
     "name": "stdout",
     "output_type": "stream",
     "text": [
      "Hello world!\n"
     ]
    }
   ],
   "source": [
    "print(\"Hello world!\")"
   ]
  },
  {
   "cell_type": "markdown",
   "metadata": {},
   "source": [
    "Revision: Basic Math Operations"
   ]
  },
  {
   "cell_type": "code",
   "execution_count": 1,
   "metadata": {},
   "outputs": [
    {
     "name": "stdout",
     "output_type": "stream",
     "text": [
      "3\n",
      "-1\n",
      "2\n",
      "0.5\n",
      "0\n",
      "1\n"
     ]
    }
   ],
   "source": [
    "print(1+2)\n",
    "print(1-2)\n",
    "print(1*2)\n",
    "print(1/2)\n",
    "print(1//2)\n",
    "print(1**2)"
   ]
  },
  {
   "cell_type": "markdown",
   "metadata": {},
   "source": [
    "Exercise 2: Python Data Types"
   ]
  },
  {
   "cell_type": "code",
   "execution_count": null,
   "metadata": {},
   "outputs": [
    {
     "name": "stdout",
     "output_type": "stream",
     "text": [
      "['apple', 'banana', 'cherry', 'date', 'elderberry']\n",
      "('cat', 'dog', 'rabbit')\n",
      "{'Python': '1991', 'Java': '1995', 'C++': '1985'}\n",
      "{'green', 'blue', 'red'}\n",
      "Python is an easy-to-learn programming language.\n"
     ]
    }
   ],
   "source": [
    "fruits = [\"apple\", \"raspberry\", \"plum\", \"grape\", \"pear\"]\n",
    "print(fruits)\n",
    "\n",
    "animals = (\"cat\", \"dog\", \"horse\")\n",
    "print(animals)\n",
    "\n",
    "programming_languages = {\n",
    "    \"Python\": \"1991\",\n",
    "    \"Java\": \"1998\",\n",
    "    \"C\": \"1970\"\n",
    "}\n",
    "print(programming_languages)\n",
    "\n",
    "colors = {\"red\", \"green\", \"blue\"}\n",
    "print(colors)\n",
    "\n",
    "sentence = \"Python is an easy-to-learn programming language.\"\n",
    "print(sentence)"
   ]
  },
  {
   "cell_type": "markdown",
   "metadata": {},
   "source": [
    "Exercise 3: Conditions "
   ]
  },
  {
   "cell_type": "code",
   "execution_count": 29,
   "metadata": {},
   "outputs": [
    {
     "name": "stdout",
     "output_type": "stream",
     "text": [
      "zero\n",
      "vowel\n",
      "equal\n"
     ]
    }
   ],
   "source": [
    "num = int(input(\"number: \"))\n",
    "\n",
    "if num > 0:\n",
    "    print(\"positive\")\n",
    "elif num < 0:\n",
    "    print(\"negative\")\n",
    "else:\n",
    "    print(\"zero\")\n",
    "\n",
    "\n",
    "string = input(\"input: \").lower()\n",
    "\n",
    "if string[0] in \"aeiou\":\n",
    "    print(\"vowel\")\n",
    "else:\n",
    "    print(\"consonant\")\n",
    "\n",
    "\n",
    "num1 = int(input(\"first number: \"))\n",
    "num2 = int(input(\"second number: \"))\n",
    "\n",
    "if num1 == num2:\n",
    "    print(\"equal\")\n",
    "else:\n",
    "    print(\"not equal.\")"
   ]
  },
  {
   "cell_type": "markdown",
   "metadata": {},
   "source": [
    "Exercise 4: Loops"
   ]
  },
  {
   "cell_type": "code",
   "execution_count": null,
   "metadata": {},
   "outputs": [
    {
     "name": "stdout",
     "output_type": "stream",
     "text": [
      "1\n",
      "2\n",
      "3\n",
      "4\n",
      "5\n",
      "6\n",
      "7\n",
      "8\n",
      "9\n",
      "10\n",
      "2\n",
      "4\n",
      "6\n",
      "8\n",
      "10\n",
      "0\n",
      "1\n",
      "1\n",
      "2\n",
      "3\n"
     ]
    }
   ],
   "source": [
    "for i in range(1, 11):\n",
    "    print(i)\n",
    "\n",
    "for i in range(2, 11, 2): \n",
    "    print(i)\n",
    "\n",
    "\n",
    "a, b = 0, 1 \n",
    "i = 0\n",
    "\n",
    "while i < 5:\n",
    "    print(a)\n",
    "    a, b = b, a + b \n",
    "    i += 1\n"
   ]
  },
  {
   "cell_type": "markdown",
   "metadata": {},
   "source": [
    "Exercise 5: Functions "
   ]
  },
  {
   "cell_type": "code",
   "execution_count": null,
   "metadata": {},
   "outputs": [
    {
     "name": "stdout",
     "output_type": "stream",
     "text": [
      "3\n",
      "3\n",
      "2\n"
     ]
    }
   ],
   "source": [
    "def sum(a, b):\n",
    "    return a + b\n",
    "\n",
    "\n",
    "def largest_num(num):\n",
    "    return max(num)\n",
    "\n",
    "\n",
    "def vowels(string):\n",
    "    vowels = \"aeiou\"\n",
    "    counter = 0\n",
    "    for char in string.lower():\n",
    "        if char in vowels:\n",
    "            counter += 1\n",
    "    return counter\n",
    "\n",
    "print(sum(1, 2))\n",
    "print(largest_num([1, 2, 3]))\n",
    "print(vowels(\"AaBb\"))"
   ]
  },
  {
   "cell_type": "markdown",
   "metadata": {},
   "source": [
    "Exercise 6: Password Strength Checker"
   ]
  },
  {
   "cell_type": "code",
   "execution_count": null,
   "metadata": {},
   "outputs": [
    {
     "name": "stdout",
     "output_type": "stream",
     "text": [
      "Password strong enough!\n"
     ]
    }
   ],
   "source": [
    "password = input(\"Enter your password: \")\n",
    "errorMessage = []\n",
    "\n",
    "if len(password) < 8:\n",
    "    errorMessage.append(\"8 characters\")\n",
    "\n",
    "if password.isupper():\n",
    "    errorMessage.append(\"one lower case letter\")\n",
    "\n",
    "if password.islower():\n",
    "    errorMessage.append(\"one upper case letter\")\n",
    "\n",
    "if password.isalnum():\n",
    "    errorMessage.append(\"one special character\")\n",
    "\n",
    "if len(errorMessage) > 0:\n",
    "        print(\"Your password must contain at least:\")\n",
    "        for i in range(len(errorMessage)):\n",
    "             print(errorMessage[i])\n",
    "else:\n",
    "    print(\"Password strong enough!\")"
   ]
  },
  {
   "cell_type": "markdown",
   "metadata": {},
   "source": [
    "Exercise 7: Caesar Cipher "
   ]
  },
  {
   "cell_type": "code",
   "execution_count": null,
   "metadata": {},
   "outputs": [
    {
     "name": "stdout",
     "output_type": "stream",
     "text": [
      "Hello World!\n"
     ]
    }
   ],
   "source": [
    "message = input(\"Whats your message?\")\n",
    "key = int(input(\"Whats your key?\"))\n",
    "mode = input(\"Are you encrypting or decrypting?\")\n",
    "\n",
    "result = \"\"\n",
    "\n",
    "if mode.lower() == \"decrypt\":\n",
    "    key = -key\n",
    "\n",
    "for char in message:\n",
    "    if char.islower():\n",
    "        result += chr((ord(char) - 97 + key) % 26 + 97)\n",
    "\n",
    "    else:\n",
    "        result += char\n",
    "\n",
    "print(result)\n"
   ]
  },
  {
   "cell_type": "markdown",
   "metadata": {},
   "source": [
    "Exercise 8: Hangman Game "
   ]
  },
  {
   "cell_type": "code",
   "execution_count": null,
   "metadata": {},
   "outputs": [
    {
     "name": "stdout",
     "output_type": "stream",
     "text": [
      "Welcome to Hangman!\n",
      "Your word:  _ _ _ _\n"
     ]
    },
    {
     "name": "stdout",
     "output_type": "stream",
     "text": [
      "Good guess! j _ _ _\n",
      "Good guess! j a _ a\n",
      "Good guess! j a v a\n",
      "Congratulations, you guessed the word 'java'!\n"
     ]
    }
   ],
   "source": [
    "import random\n",
    "\n",
    "word_list = [\"python\", \"java\", \"javascript\"]\n",
    " \n",
    "word = random.choice(word_list)\n",
    "    \n",
    "max_guesses = 6\n",
    "incorrect_guesses = 0\n",
    "    \n",
    "guessed_letters = []\n",
    "word_display = [\"_\"] * len(word)\n",
    "    \n",
    "print(\"Welcome to Hangman!\")\n",
    "print(\"Your word: \", \" \".join(word_display))\n",
    "    \n",
    "while incorrect_guesses < max_guesses:\n",
    "    guess = input(\"Guess a letter: \").lower()\n",
    "\n",
    "    if len(guess) != 1 or not guess.isalpha():\n",
    "        print(\"Please enter a valid single letter.\")\n",
    "        continue\n",
    "        \n",
    "    if guess in guessed_letters:\n",
    "        print(f\"You already guessed the letter '{guess}'. Try again.\")\n",
    "        continue\n",
    "\n",
    "    guessed_letters.append(guess)\n",
    "        \n",
    "    if guess in word:\n",
    "        for i in range(len(word)):\n",
    "            if word[i] == guess:\n",
    "                word_display[i] = guess\n",
    "        print(\"Good guess! \" + \" \".join(word_display))\n",
    "            \n",
    "        if \"_\" not in word_display:\n",
    "            print(f\"Congratulations, you guessed the word '{word}'!\")\n",
    "            break\n",
    "    else:\n",
    "        incorrect_guesses += 1\n",
    "        print(f\"Incorrect guess. You have {max_guesses - incorrect_guesses} guesses left.\")\n",
    "        print(\"Word: \", \" \".join(word_display))\n",
    "    \n",
    "if incorrect_guesses == max_guesses:\n",
    "    print(f\"Sorry, you've run out of guesses. The word was '{word}'.\")"
   ]
  }
 ],
 "metadata": {
  "kernelspec": {
   "display_name": "base",
   "language": "python",
   "name": "python3"
  },
  "language_info": {
   "codemirror_mode": {
    "name": "ipython",
    "version": 3
   },
   "file_extension": ".py",
   "mimetype": "text/x-python",
   "name": "python",
   "nbconvert_exporter": "python",
   "pygments_lexer": "ipython3",
   "version": "3.12.5"
  }
 },
 "nbformat": 4,
 "nbformat_minor": 2
}
