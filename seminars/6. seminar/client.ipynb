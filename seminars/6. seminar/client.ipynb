{
 "cells": [
  {
   "cell_type": "markdown",
   "metadata": {},
   "source": [
    "\n",
    "Exercise 5: use the client sever example from previous \n",
    "week to have a TCP server as DHCP server and create a client that would get \n",
    "the IP address from the server following the process above. "
   ]
  },
  {
   "cell_type": "code",
   "execution_count": 12,
   "metadata": {},
   "outputs": [
    {
     "name": "stdout",
     "output_type": "stream",
     "text": [
      "\n",
      "[CLIENT] Sending DHCP DISCOVER\n",
      "[CLIENT] Received: OFFER: 192.168.1.100\n",
      "[CLIENT] Server offered IP: 192.168.1.100\n",
      "\n",
      "[CLIENT] Sending DHCP REQUEST for IP 192.168.1.100\n",
      "[CLIENT] Received: ACK: 192.168.1.100\n",
      "\n",
      "[CLIENT] Assigned IP: 192.168.1.100\n"
     ]
    }
   ],
   "source": [
    "import socket\n",
    "\n",
    "client = {\n",
    "    \"mac\": \"AA:BB:CC:DD:EE:FF\",\n",
    "    \"ip\": None\n",
    "}\n",
    "\n",
    "client_socket = socket.socket(socket.AF_INET, socket.SOCK_STREAM)\n",
    "client_socket.connect(('localhost', 65432))\n",
    "\n",
    "print(\"\\n[CLIENT] Sending DHCP DISCOVER\")\n",
    "client_socket.sendall(\"DISCOVER\".encode())\n",
    "\n",
    "data = client_socket.recv(1024).decode()\n",
    "print(f\"[CLIENT] Received: {data}\")\n",
    "if \"OFFER\" in data:\n",
    "    offered_ip = data.split(\":\")[1].strip()\n",
    "    print(f\"[CLIENT] Server offered IP: {offered_ip}\")\n",
    "else:\n",
    "    print(\"[CLIENT] No IP available from the server.\")\n",
    "    client_socket.close()\n",
    "    exit()\n",
    "\n",
    "print(f\"\\n[CLIENT] Sending DHCP REQUEST for IP {offered_ip}\")\n",
    "client_socket.sendall(f\"REQUEST: {offered_ip}\".encode())\n",
    "\n",
    "data = client_socket.recv(1024).decode()\n",
    "print(f\"[CLIENT] Received: {data}\")\n",
    "\n",
    "if \"ACK\" in data:\n",
    "    client[\"ip\"] = offered_ip\n",
    "    print(f\"\\n[CLIENT] Assigned IP: {client['ip']}\")\n",
    "\n",
    "client_socket.close()\n"
   ]
  }
 ],
 "metadata": {
  "kernelspec": {
   "display_name": "base",
   "language": "python",
   "name": "python3"
  },
  "language_info": {
   "codemirror_mode": {
    "name": "ipython",
    "version": 3
   },
   "file_extension": ".py",
   "mimetype": "text/x-python",
   "name": "python",
   "nbconvert_exporter": "python",
   "pygments_lexer": "ipython3",
   "version": "3.12.5"
  }
 },
 "nbformat": 4,
 "nbformat_minor": 2
}
