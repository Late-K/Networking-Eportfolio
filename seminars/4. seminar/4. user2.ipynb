{
 "cells": [
  {
   "cell_type": "code",
   "execution_count": null,
   "metadata": {},
   "outputs": [
    {
     "name": "stdout",
     "output_type": "stream",
     "text": [
      "hello everybody\n"
     ]
    }
   ],
   "source": [
    "import socket\n",
    "\n",
    "client_socket = socket.socket(socket.AF_INET, socket.SOCK_DGRAM)\n",
    "\n",
    "server_address = ('localhost', 65433)\n",
    "\n",
    "while True:\n",
    "\n",
    "    message = input(\"Text\").encode()\n",
    "\n",
    "    print(f\"{message.decode()}\")\n",
    "\n",
    "    # Send message to the server\n",
    "    client_socket.sendto(message, server_address)\n",
    "\n",
    "    data, server = client_socket.recvfrom(2048)\n",
    "\n",
    "    print(f\"{data.decode()}\")\n"
   ]
  }
 ],
 "metadata": {
  "kernelspec": {
   "display_name": "base",
   "language": "python",
   "name": "python3"
  },
  "language_info": {
   "codemirror_mode": {
    "name": "ipython",
    "version": 3
   },
   "file_extension": ".py",
   "mimetype": "text/x-python",
   "name": "python",
   "nbconvert_exporter": "python",
   "pygments_lexer": "ipython3",
   "version": "3.12.5"
  }
 },
 "nbformat": 4,
 "nbformat_minor": 2
}
