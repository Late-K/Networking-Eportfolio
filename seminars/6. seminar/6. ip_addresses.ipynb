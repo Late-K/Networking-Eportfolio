{
 "cells": [
  {
   "cell_type": "markdown",
   "metadata": {},
   "source": [
    "1. Working with IP Addresses \n",
    "\n",
    "a) Classful Addressing \n",
    "\n",
    "b) Classless Inter-Domain Routing (CIDR) "
   ]
  },
  {
   "cell_type": "markdown",
   "metadata": {},
   "source": [
    "Simple tool to manipulate and analyse IP address"
   ]
  },
  {
   "cell_type": "code",
   "execution_count": null,
   "metadata": {},
   "outputs": [
    {
     "name": "stdout",
     "output_type": "stream",
     "text": [
      "Address: 192.168.1.1\n",
      "Network: 192.168.1.0/30\n",
      "Netmask: 255.255.255.252\n",
      "Is private: True\n",
      "Is global: False\n",
      "Broadcast address: 192.168.1.3\n",
      "first network: 192.168.1.1\n",
      "last network: 192.168.0.255\n",
      "total of usable hosts 2\n",
      "CIDR prefix ip: 192.168.1.1/30\n",
      "\n",
      "Hosts in network:\n",
      "192.168.1.1\n",
      "192.168.1.2\n"
     ]
    }
   ],
   "source": [
    "import ipaddress\n",
    "\n",
    "def analyse_ip(ip_str):\n",
    "    # Create an IP interface object\n",
    "    ip = ipaddress.ip_interface(ip_str)\n",
    "\n",
    "    print(f\"Address: {ip.ip}\")\n",
    "    print(f\"Network: {ip.network}\")\n",
    "    print(f\"Netmask: {ip.netmask}\")\n",
    "    print(f\"Is private: {ip.ip.is_private}\")\n",
    "    print(f\"Is global: {ip.ip.is_global}\")\n",
    "    #Exercise 1:  Extend the script to calculate: \n",
    "    print(f\"Broadcast address: {ip.network.broadcast_address}\")\n",
    "    print(f\"First host: {ip.network.network_address +1}\")\n",
    "    print(f\"Last host: {ip.network.network_address -1}\")\n",
    "    print(f\"Total usable hosts {(2**(32 -30)) - 2}\") \n",
    "    print(f\"CIDR prefix ip: {ip.with_prefixlen}\")\n",
    "\n",
    "    # List all hosts in the network\n",
    "    if ip.network.num_addresses < 256: # Only for small networks\n",
    "        print(\"\\nHosts in network:\")\n",
    "        for host in ip.network.hosts():\n",
    "            print(host) \n",
    "            \n",
    "# Example usage\n",
    "print(analyse_ip('192.168.1.1'))\n",
    "print(analyse_ip('192.168.1.1/24'))\n"
   ]
  },
  {
   "cell_type": "markdown",
   "metadata": {},
   "source": [
    "Simple script to find your devices name and IP address"
   ]
  },
  {
   "cell_type": "code",
   "execution_count": 1,
   "metadata": {},
   "outputs": [
    {
     "name": "stdout",
     "output_type": "stream",
     "text": [
      "Your Computer Name is:DESKTOP-F7AAT91\n",
      "Your Computer IP Address is:10.100.53.100\n"
     ]
    }
   ],
   "source": [
    "import socket \n",
    "hostname = socket.gethostname() \n",
    "IPAddr = socket.gethostbyname(hostname) \n",
    " \n",
    "print(\"Your Computer Name is:\" + hostname) \n",
    "print(\"Your Computer IP Address is:\" + IPAddr) "
   ]
  },
  {
   "cell_type": "markdown",
   "metadata": {},
   "source": [
    "2. Dynamic Host Configuration Protocol (DHCP) \n",
    "\n",
    "a) DHCP Operation (4-Step Process) \n",
    "1. DHCP Discover (DHCPDISCOVER)  \n",
    "o Client broadcasts a request for an IP address \n",
    "o Source: 0.0.0.0, Destination: 255.255.255.255 \n",
    "o Contains client's MAC address for identification \n",
    "2. DHCP Offer (DHCPOFFER)  \n",
    "o Server responds with an available IP address \n",
    "o Includes lease time and other configuration information \n",
    "o Multiple DHCP servers can respond with different offers \n",
    "3. DHCP Request (DHCPREQUEST)  \n",
    "o Client broadcasts which offer it accepts \n",
    "o This informs all DHCP servers, allowing non-selected servers to \n",
    "reclaim offered IP addresses \n",
    "4. DHCP Acknowledgment (DHCPACK)  \n",
    "o Selected server confirms the assignment \n",
    "o Finalizes lease duration and provides complete configuration \n"
   ]
  },
  {
   "cell_type": "markdown",
   "metadata": {},
   "source": [
    "b) Simulate DHCP operations \n",
    "\n",
    "Simple script simulate the process of DHCP"
   ]
  },
  {
   "cell_type": "code",
   "execution_count": 2,
   "metadata": {},
   "outputs": [
    {
     "name": "stdout",
     "output_type": "stream",
     "text": [
      "=== Simple DHCP Simulation ===\n",
      "\n",
      "[CLIENT] Step 1: Sending DHCP DISCOVER\n",
      "\n",
      "[SERVER] Step 2: Making DHCP OFFER\n",
      "\n",
      "[CLIENT] Step 3: Sending DHCP REQUEST\n",
      "\n",
      "[SERVER] Step 4: Sending DHCP ACK\n",
      "\n",
      "=== Result ===\n",
      "Client AA:BB:CC:DD:EE:FF got IP: 192.168.1.100\n",
      "Server leases: {'AA:BB:CC:DD:EE:FF': '192.168.1.100'}\n"
     ]
    }
   ],
   "source": [
    "\n",
    "# dhcp_simple.py - Simplified DHCP Simulator \n",
    " \n",
    "# Server Configuration \n",
    "server = { \n",
    "    \"ip_pool\": [\"192.168.1.100\", \"192.168.1.101\", \"192.168.1.102\"], \n",
    "    \"leases\": {} \n",
    "} \n",
    " \n",
    "# Client Configuration \n",
    "client = { \n",
    "    \"mac\": \"AA:BB:CC:DD:EE:FF\", \n",
    "    \"ip\": None \n",
    "} \n",
    " \n",
    "def send_discover(): \n",
    "    print(\"\\n[CLIENT] Step 1: Sending DHCP DISCOVER\") \n",
    "    return { \n",
    "        \"type\": \"DISCOVER\", \n",
    "        \"mac\": client[\"mac\"] \n",
    "    } \n",
    " \n",
    "def make_offer(discover): \n",
    "    print(\"\\n[SERVER] Step 2: Making DHCP OFFER\") \n",
    "    if not server[\"ip_pool\"]: \n",
    "        print(\"No IPs available!\") \n",
    "        return None \n",
    "     \n",
    "    offered_ip = server[\"ip_pool\"].pop(0) \n",
    "    return { \n",
    "        \"type\": \"OFFER\", \n",
    "        \"mac\": discover[\"mac\"], \n",
    "        \"ip\": offered_ip \n",
    "    } \n",
    " \n",
    "def send_request(offer): \n",
    "    print(\"\\n[CLIENT] Step 3: Sending DHCP REQUEST\") \n",
    "    return { \n",
    "        \"type\": \"REQUEST\", \n",
    "        \"mac\": offer[\"mac\"], \n",
    "        \"ip\": offer[\"ip\"] \n",
    "    } \n",
    "\n",
    "def send_ack(request): \n",
    "    print(\"\\n[SERVER] Step 4: Sending DHCP ACK\") \n",
    "    server[\"leases\"][request[\"mac\"]] = request[\"ip\"] \n",
    "    return { \n",
    "        \"type\": \"ACK\", \n",
    "        \"mac\": request[\"mac\"], \n",
    "        \"ip\": request[\"ip\"] \n",
    "    } \n",
    " \n",
    "def main(): \n",
    "    print(\"=== Simple DHCP Simulation ===\") \n",
    "     \n",
    "    # Client starts process \n",
    "    discover = send_discover() \n",
    "     \n",
    "    # Server responds \n",
    "    offer = make_offer(discover) \n",
    "    if not offer: \n",
    "        return \n",
    "     \n",
    "    # Client continues \n",
    "    request = send_request(offer) \n",
    "     \n",
    "    # Server finalizes \n",
    "    ack = send_ack(request) \n",
    "     \n",
    "    # Update client IP \n",
    "    client[\"ip\"] = ack[\"ip\"] \n",
    "     \n",
    "    print(\"\\n=== Result ===\") \n",
    "    print(f\"Client {client['mac']} got IP: {client['ip']}\") \n",
    "    print(\"Server leases:\", server[\"leases\"]) \n",
    " \n",
    "if __name__ == \"__main__\": \n",
    "    main() "
   ]
  },
  {
   "cell_type": "markdown",
   "metadata": {},
   "source": [
    "Exercise 5: use the client sever example from previous week to have a TCP server as DHCP server and create a client that would get the IP address from the server following the process above."
   ]
  }
 ],
 "metadata": {
  "kernelspec": {
   "display_name": "base",
   "language": "python",
   "name": "python3"
  },
  "language_info": {
   "codemirror_mode": {
    "name": "ipython",
    "version": 3
   },
   "file_extension": ".py",
   "mimetype": "text/x-python",
   "name": "python",
   "nbconvert_exporter": "python",
   "pygments_lexer": "ipython3",
   "version": "3.12.5"
  }
 },
 "nbformat": 4,
 "nbformat_minor": 2
}
