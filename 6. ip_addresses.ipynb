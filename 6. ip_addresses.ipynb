{
 "cells": [
  {
   "cell_type": "code",
   "execution_count": 20,
   "metadata": {},
   "outputs": [
    {
     "name": "stdout",
     "output_type": "stream",
     "text": [
      "Address: 192.168.1.1\n",
      "Network: 192.168.1.0/30\n",
      "Netmask: 255.255.255.252\n",
      "Is private: True\n",
      "Is global: False\n",
      "Broadcast address: 192.168.1.3\n",
      "first network: 192.168.1.1\n",
      "last network: 192.168.0.255\n",
      "total of usable hosts 2\n",
      "CIDR prefix ip: 192.168.1.1/30\n",
      "\n",
      "Hosts in network:\n",
      "192.168.1.1\n",
      "192.168.1.2\n"
     ]
    }
   ],
   "source": [
    "import ipaddress\n",
    "\n",
    "def analyse_ip(ip_str):\n",
    "    # Create an IP interface object\n",
    "    ip = ipaddress.ip_interface(ip_str)\n",
    "\n",
    "    print(f\"Address: {ip.ip}\")\n",
    "    print(f\"Network: {ip.network}\")\n",
    "    print(f\"Netmask: {ip.netmask}\")\n",
    "    print(f\"Is private: {ip.ip.is_private}\")\n",
    "    print(f\"Is global: {ip.ip.is_global}\")\n",
    "    print(f\"Broadcast address: {ip.network.broadcast_address}\")\n",
    "    print(f\"first network: {ip.network.network_address +1}\")\n",
    "    print(f\"last network: {ip.network.network_address -1}\")\n",
    "    print(f\"total of usable hosts {(2**(32 -30)) - 2}\")\n",
    "    print(f\"CIDR prefix ip: {ip.with_prefixlen}\")\n",
    "\n",
    "    # List all hosts in the network\n",
    "    if ip.network.num_addresses < 256: # Only for small networks\n",
    "        print(\"\\nHosts in network:\")\n",
    "        for host in ip.network.hosts():\n",
    "            print(host) \n",
    "            \n",
    "# Example usage\n",
    "analyse_ip('192.168.1.1/30')\n"
   ]
  }
 ],
 "metadata": {
  "kernelspec": {
   "display_name": "base",
   "language": "python",
   "name": "python3"
  },
  "language_info": {
   "codemirror_mode": {
    "name": "ipython",
    "version": 3
   },
   "file_extension": ".py",
   "mimetype": "text/x-python",
   "name": "python",
   "nbconvert_exporter": "python",
   "pygments_lexer": "ipython3",
   "version": "3.12.5"
  }
 },
 "nbformat": 4,
 "nbformat_minor": 2
}
