{
 "cells": [
  {
   "cell_type": "markdown",
   "metadata": {},
   "source": [
    "3. Building a Simple API data collection Application \n",
    "\n",
    "Application that collects weather information from API and sends it to the server"
   ]
  },
  {
   "cell_type": "code",
   "execution_count": 15,
   "metadata": {},
   "outputs": [
    {
     "name": "stdout",
     "output_type": "stream",
     "text": [
      "Weather data sent!\n"
     ]
    }
   ],
   "source": [
    "import socket \n",
    "import requests \n",
    "\n",
    "# Fetch weather data \n",
    "api_url = \"https://api.open-meteo.com/v1/forecast?latitude=51.47&longitude=0.0363&current_weather=true\" \n",
    "response = requests.get(api_url) \n",
    "\n",
    "if response.status_code == 200: \n",
    "    weather_data = response.json() \n",
    "    temperature = weather_data[\"current_weather\"][\"temperature\"] \n",
    "    message = f\"Current temperature: {temperature}°C\" \n",
    "else: \n",
    "    message = \"Failed to fetch weather data\" \n",
    "\n",
    "# Send the weather data using UDP \n",
    "client_socket = socket.socket(socket.AF_INET, socket.SOCK_DGRAM) \n",
    "server_address = ('localhost', 65433) \n",
    "\n",
    "client_socket.sendto(message.encode(), server_address) \n",
    "print(\"Weather data sent!\") \n",
    "\n",
    "client_socket.close() "
   ]
  },
  {
   "cell_type": "markdown",
   "metadata": {},
   "source": [
    "Exercise 5:  Check the API website and update the script to compare the temperate between the university and the British Library.  "
   ]
  },
  {
   "cell_type": "code",
   "execution_count": 13,
   "metadata": {},
   "outputs": [
    {
     "name": "stdout",
     "output_type": "stream",
     "text": [
      "Weather data sent!\n"
     ]
    }
   ],
   "source": [
    "import socket\n",
    "import requests\n",
    "\n",
    "#Fetch weather data \n",
    "def temp(latitude, longitude):\n",
    "    api_url = f\"https://api.open-meteo.com/v1/forecast?latitude={latitude}&longitude={longitude}&current_weather=true\"\n",
    "    response = requests.get(api_url)\n",
    "\n",
    "    if response.status_code == 200:\n",
    "        weather_data = response.json()\n",
    "        return weather_data[\"current_weather\"][\"temperature\"]\n",
    "    else:\n",
    "        return None\n",
    "\n",
    "uni_temp = temp(51.474782, -0.0358987)\n",
    "bl_temp = temp(51.5299889, -0.1269919)\n",
    "\n",
    "if uni_temp is not None and bl_temp is not None:\n",
    "    message = (f\"\\nGoldsmiths Temperature: {uni_temp}°C\"\n",
    "               f\"\\nBritish Library Temperature: {bl_temp}°C\")\n",
    "else:\n",
    "    message = \"Failed to fetch weather data\"\n",
    "\n",
    "# Send the weather data using UDP\n",
    "client_socket = socket.socket(socket.AF_INET, socket.SOCK_DGRAM)\n",
    "server_address = ('localhost', 65433)\n",
    "\n",
    "client_socket.sendto(message.encode(), server_address)\n",
    "print(\"Weather data sent!\")\n",
    "\n",
    "client_socket.close()\n"
   ]
  },
  {
   "cell_type": "markdown",
   "metadata": {},
   "source": [
    "Exercise 6:  Experiment with other applications of the API. "
   ]
  },
  {
   "cell_type": "code",
   "execution_count": 16,
   "metadata": {},
   "outputs": [
    {
     "name": "stdout",
     "output_type": "stream",
     "text": [
      "Weather data sent!\n"
     ]
    }
   ],
   "source": [
    "import socket\n",
    "import requests\n",
    "\n",
    "#Fetch weather data \n",
    "def temp(latitude, longitude):\n",
    "    api_url = f\"https://api.open-meteo.com/v1/forecast?latitude={latitude}&longitude={longitude}&current_weather=true&hourly=precipitation_probability\"\n",
    "    response = requests.get(api_url)\n",
    "\n",
    "    if response.status_code == 200:\n",
    "        weather_data = response.json()\n",
    "        temp = weather_data[\"current_weather\"][\"temperature\"]\n",
    "        rain = weather_data[\"hourly\"][\"precipitation_probability\"][0]\n",
    "        return temp, rain\n",
    "    else:\n",
    "        return None, None\n",
    "\n",
    "uni_temp, uni_rain = temp(51.474782, -0.0358987)\n",
    "bl_temp, bl_rain = temp(51.5299889, -0.1269919)\n",
    "\n",
    "if uni_temp is not None and bl_temp is not None:\n",
    "    message = (f\"\\nGoldsmiths: \"\n",
    "               f\"\\n-Temperature: {uni_temp}°C\"\n",
    "               f\"\\n-Chance of rain: {uni_rain}%\"\n",
    "               f\"\\nBritish Library: \"\n",
    "               f\"\\n-Temperature: {bl_temp}°C\"\n",
    "               f\"\\n-Chance of rain: {bl_rain}%\")\n",
    "else:\n",
    "    message = \"Failed to fetch weather data\"\n",
    "\n",
    "# Send the weather data using UDP\n",
    "client_socket = socket.socket(socket.AF_INET, socket.SOCK_DGRAM)\n",
    "server_address = ('localhost', 65433)\n",
    "\n",
    "client_socket.sendto(message.encode(), server_address)\n",
    "print(\"Weather data sent!\")\n",
    "\n",
    "client_socket.close()\n"
   ]
  }
 ],
 "metadata": {
  "kernelspec": {
   "display_name": "base",
   "language": "python",
   "name": "python3"
  },
  "language_info": {
   "codemirror_mode": {
    "name": "ipython",
    "version": 3
   },
   "file_extension": ".py",
   "mimetype": "text/x-python",
   "name": "python",
   "nbconvert_exporter": "python",
   "pygments_lexer": "ipython3",
   "version": "3.12.5"
  }
 },
 "nbformat": 4,
 "nbformat_minor": 2
}
