{
 "cells": [
  {
   "cell_type": "markdown",
   "metadata": {},
   "source": [
    "1. Building a Simple TCP Server \n",
    "\n",
    "A simple TCP server to accept client connections and echo received messages"
   ]
  },
  {
   "cell_type": "code",
   "execution_count": null,
   "metadata": {},
   "outputs": [
    {
     "name": "stdout",
     "output_type": "stream",
     "text": [
      "TCP Server is listening...\n",
      "Connected to ('127.0.0.1', 63080)\n",
      "Received: hello\n",
      "Connected to ('127.0.0.1', 63090)\n",
      "Received: hello\n"
     ]
    }
   ],
   "source": [
    "import socket \n",
    "\n",
    "# Create a TCP socket \n",
    "server_socket = socket.socket(socket.AF_INET, socket.SOCK_STREAM) \n",
    "server_socket.bind(('localhost', 65432)) \n",
    "server_socket.listen(1)  # Allow 1 pending connection \n",
    "\n",
    "print(\"TCP Server is listening...\") \n",
    "\n",
    "while True: \n",
    "    client_socket, client_address = server_socket.accept() \n",
    "    print(f\"Connected to {client_address}\") \n",
    "\n",
    "    data = client_socket.recv(1024) \n",
    "    print(f\"Received: {data.decode()}\") \n",
    "    \n",
    "    # Echo back the data \n",
    "    client_socket.sendall(b\"ACK: \" + data) \n",
    "    client_socket.close() "
   ]
  },
  {
   "cell_type": "markdown",
   "metadata": {},
   "source": [
    "A simple UDP server to accept client connections and echo received messages"
   ]
  },
  {
   "cell_type": "code",
   "execution_count": null,
   "metadata": {},
   "outputs": [
    {
     "name": "stdout",
     "output_type": "stream",
     "text": [
      "TCP Server is listening...\n",
      "Connected to ('127.0.0.1', 60500)\n",
      "Received: hello\n"
     ]
    }
   ],
   "source": [
    "import socket \n",
    "\n",
    "# Create a TCP socket \n",
    "server_socket = socket.socket(socket.AF_INET, socket.SOCK_DGRAM) \n",
    "server_socket.bind(('localhost', 65432)) \n",
    "\n",
    "print(\"TCP Server is listening...\") \n",
    "\n",
    "while True: \n",
    "    data, client_address = server_socket.recvfrom(1024)\n",
    "    print(f\"Connected to {client_address}\") \n",
    "\n",
    "    print(f\"Received: {data.decode()}\") \n",
    "    \n",
    "    # Echo back the data \n",
    "    server_socket.sendto(b\"ACK: \" + data, client_address)"
   ]
  },
  {
   "cell_type": "markdown",
   "metadata": {},
   "source": [
    "3. Logging data in TXT File Over TCP \n",
    "\n",
    "A TCP server to accept client connections and save data in a txt file"
   ]
  },
  {
   "cell_type": "code",
   "execution_count": 1,
   "metadata": {},
   "outputs": [
    {
     "name": "stdout",
     "output_type": "stream",
     "text": [
      "TCP Server is listening...\n",
      "Connected to ('127.0.0.1', 51194)\n"
     ]
    },
    {
     "ename": "ConnectionResetError",
     "evalue": "[WinError 10054] An existing connection was forcibly closed by the remote host",
     "output_type": "error",
     "traceback": [
      "\u001b[1;31m---------------------------------------------------------------------------\u001b[0m",
      "\u001b[1;31mConnectionResetError\u001b[0m                      Traceback (most recent call last)",
      "Cell \u001b[1;32mIn[1], line 17\u001b[0m\n\u001b[0;32m     15\u001b[0m \u001b[38;5;28;01mwith\u001b[39;00m \u001b[38;5;28mopen\u001b[39m(\u001b[38;5;124m'\u001b[39m\u001b[38;5;124mreceived_file.txt\u001b[39m\u001b[38;5;124m'\u001b[39m, \u001b[38;5;124m'\u001b[39m\u001b[38;5;124mwb\u001b[39m\u001b[38;5;124m'\u001b[39m) \u001b[38;5;28;01mas\u001b[39;00m f: \n\u001b[0;32m     16\u001b[0m     \u001b[38;5;28;01mwhile\u001b[39;00m \u001b[38;5;28;01mTrue\u001b[39;00m: \n\u001b[1;32m---> 17\u001b[0m         data \u001b[38;5;241m=\u001b[39m \u001b[43mclient_socket\u001b[49m\u001b[38;5;241;43m.\u001b[39;49m\u001b[43mrecv\u001b[49m\u001b[43m(\u001b[49m\u001b[38;5;241;43m1024\u001b[39;49m\u001b[43m)\u001b[49m \n\u001b[0;32m     18\u001b[0m         \u001b[38;5;28;01mif\u001b[39;00m \u001b[38;5;129;01mnot\u001b[39;00m data: \n\u001b[0;32m     19\u001b[0m             \u001b[38;5;28;01mbreak\u001b[39;00m \n",
      "\u001b[1;31mConnectionResetError\u001b[0m: [WinError 10054] An existing connection was forcibly closed by the remote host"
     ]
    }
   ],
   "source": [
    "import socket \n",
    "\n",
    "# Create a TCP socket \n",
    "server_socket = socket.socket(socket.AF_INET, socket.SOCK_STREAM) \n",
    "server_socket.bind(('localhost', 65432)) \n",
    "server_socket.listen(1)  # Allow 1 pending connection \n",
    "\n",
    "print(\"TCP Server is listening...\") \n",
    "\n",
    "while True: \n",
    "    client_socket, client_address = server_socket.accept() \n",
    "    print(f\"Connected to {client_address}\") \n",
    "\n",
    "    # ... (Server setup code) \n",
    "    with open('received_file.txt', 'wb') as f: \n",
    "        while True: \n",
    "            data = client_socket.recv(1024) \n",
    "            if not data: \n",
    "                break \n",
    "            f.write(data) \n",
    "        print(\"File received!\") \n",
    "\n",
    "    data = client_socket.recv(1024) \n",
    "    print(f\"Received: {data.decode()}\") \n",
    "    \n",
    "    # Echo back the data \n",
    "    client_socket.sendall(b\"ACK: \" + data) \n",
    "    client_socket.close() "
   ]
  },
  {
   "cell_type": "code",
   "execution_count": null,
   "metadata": {},
   "outputs": [
    {
     "name": "stdout",
     "output_type": "stream",
     "text": [
      "TCP Server is listening...\n",
      "Connected to ('127.0.0.1', 62624)\n",
      "File received!\n",
      "Connected to ('127.0.0.1', 62724)\n",
      "File received!\n"
     ]
    }
   ],
   "source": [
    "import socket\n",
    "\n",
    "# Create a TCP socket\n",
    "server_socket = socket.socket(socket.AF_INET, socket.SOCK_STREAM)\n",
    "server_socket.bind(('localhost', 65432))\n",
    "server_socket.listen(1) # Allow 1 pending connection\n",
    "\n",
    "print(\"TCP Server is listening...\")\n",
    "\n",
    "while True:\n",
    "    client_socket, client_address = server_socket.accept()\n",
    "    print(f\"Connected to {client_address}\")\n",
    " \n",
    "# ... (Server setup code)\n",
    "    with open('received_file.png', 'wb') as f:\n",
    "        # while True:\n",
    "        data = client_socket.recv(1024)\n",
    "            # print(f\"Received\")\n",
    "        if not data:\n",
    "            print(\"no data\")\n",
    "            break\n",
    "        f.write(data)\n",
    "            # print(\"writing data\")\n",
    "    print(\"File received!\")\n",
    "    client_socket.sendall(b\"ACK\")\n",
    "\n",
    "    client_socket.close()"
   ]
  }
 ],
 "metadata": {
  "kernelspec": {
   "display_name": "base",
   "language": "python",
   "name": "python3"
  },
  "language_info": {
   "codemirror_mode": {
    "name": "ipython",
    "version": 3
   },
   "file_extension": ".py",
   "mimetype": "text/x-python",
   "name": "python",
   "nbconvert_exporter": "python",
   "pygments_lexer": "ipython3",
   "version": "3.12.5"
  }
 },
 "nbformat": 4,
 "nbformat_minor": 2
}
