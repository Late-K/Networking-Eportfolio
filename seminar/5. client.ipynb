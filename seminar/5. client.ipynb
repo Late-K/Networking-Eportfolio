{
 "cells": [
  {
   "cell_type": "code",
   "execution_count": 7,
   "metadata": {},
   "outputs": [
    {
     "name": "stdout",
     "output_type": "stream",
     "text": [
      "Server response\n",
      "0:00:00.003070\n"
     ]
    }
   ],
   "source": [
    "import socket\n",
    "import datetime\n",
    "\n",
    "client_socket = socket.socket(socket.AF_INET, socket.SOCK_STREAM)\n",
    "client_socket.connect(('localhost', 65432))\n",
    "\n",
    "# ... (Client setup code)\n",
    "with open('Clyde.png', 'rb') as f:\n",
    "    client_socket.sendfile(f)\n",
    "x = datetime.datetime.now()\n",
    "\n",
    "# message = input(\"Enter message: \")\n",
    "# client_socket.sendall(message.encode())\n",
    "# x = datetime.datetime.now()\n",
    "\n",
    "response = client_socket.recv(1024)\n",
    "print(f\"Server response\")\n",
    "print(datetime.datetime.now() - x)\n",
    "\n",
    "client_socket.close()\n"
   ]
  }
 ],
 "metadata": {
  "kernelspec": {
   "display_name": "base",
   "language": "python",
   "name": "python3"
  },
  "language_info": {
   "codemirror_mode": {
    "name": "ipython",
    "version": 3
   },
   "file_extension": ".py",
   "mimetype": "text/x-python",
   "name": "python",
   "nbconvert_exporter": "python",
   "pygments_lexer": "ipython3",
   "version": "3.12.5"
  }
 },
 "nbformat": 4,
 "nbformat_minor": 2
}
