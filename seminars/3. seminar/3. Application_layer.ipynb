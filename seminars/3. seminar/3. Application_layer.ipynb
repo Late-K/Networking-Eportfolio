{
 "cells": [
  {
   "cell_type": "markdown",
   "metadata": {},
   "source": [
    "1. Introduction to the Application Layer \n",
    "\n",
    "What is the Application Layer? \n",
    "\n",
    "The application layer is the top layer of the OSI model and is responsible for providing network services directly to end-user applications. Common protocols at this layer include HTTP, FTP, SMTP, and DNS. \n",
    "\n",
    "\n",
    "Key Concepts: - Protocols: Rules that define how data is transmitted and received. - Client-Server Model: A distributed application structure that partitions tasks or workloads between providers (servers) and requesters (clients). - Sockets: Endpoints for sending and receiving data across a network.\n"
   ]
  },
  {
   "cell_type": "markdown",
   "metadata": {},
   "source": [
    "2. Basic Python socket examples \n",
    "\n",
    "a) Finding Website IP address  \n",
    "\n",
    "Basic example of finding the IP address of a website using \"socket.gethostbyname()\". "
   ]
  },
  {
   "cell_type": "code",
   "execution_count": 3,
   "metadata": {},
   "outputs": [
    {
     "name": "stdout",
     "output_type": "stream",
     "text": [
      "The IP address of gold.ac.uk is 159.100.136.66\n",
      "The IP address of coolmathsgames.com is 185.53.177.52\n",
      "The IP address of wikipedia.org is 185.15.59.224\n"
     ]
    }
   ],
   "source": [
    "import socket\n",
    "\n",
    "def get_ip_address(website_url):\n",
    "    try:\n",
    "        ip_address = socket.gethostbyname(website_url)\n",
    "        print(f\"The IP address of {website_url} is {ip_address}\")\n",
    "    except socket.gaierror:\n",
    "        print(f\"Unable to get the IP address for {website_url}\")\n",
    "\n",
    "#website = input(\"Enter the website URL (without 'https://'): \") \n",
    "\n",
    "# Exercise 1:  Try 3 websites and report their IP addresses\n",
    "website = [\"gold.ac.uk\", \"coolmathsgames.com\", \"wikipedia.org\"] \n",
    "for i in website:\n",
    "    get_ip_address(i)"
   ]
  },
  {
   "cell_type": "markdown",
   "metadata": {},
   "source": [
    "b. Trace Route \n",
    "\n",
    "Basic example of a tracert"
   ]
  },
  {
   "cell_type": "code",
   "execution_count": null,
   "metadata": {},
   "outputs": [
    {
     "name": "stdout",
     "output_type": "stream",
     "text": [
      "\n",
      "Tracing route to gold.ac.uk [159.100.136.66]\n",
      "over a maximum of 30 hops:\n",
      "\n",
      "  1     3 ms     1 ms     2 ms  192.168.0.1 \n",
      "  2     9 ms     9 ms    10 ms  10.112.33.41 \n",
      "  3    11 ms    10 ms     9 ms  80.255.196.76 \n",
      "  4     *        *        *     Request timed out.\n",
      "  5    20 ms    19 ms    19 ms  tcl5-ic-7-ae0-0.network.virginmedia.net [213.105.11.198] \n",
      "  6    19 ms    17 ms    22 ms  10ge.xe-0-0-0.linxb.ldn-teleh-dis-1.peer1.net [195.66.224.156] \n",
      "  7    22 ms    21 ms    20 ms  et-3-0-0.por-5ltp1ops-dis-3.peer1.net [216.187.112.249] \n",
      "  8    22 ms    21 ms    34 ms  216.187.112.188 \n",
      "  9    24 ms    22 ms    23 ms  www.gold.ac.uk [159.100.136.66] \n",
      "\n",
      "Trace complete.\n",
      "\n",
      "\n",
      "Tracing route to 185.53.177.52 over a maximum of 30 hops\n",
      "\n",
      "  1     3 ms     3 ms     3 ms  192.168.0.1 \n",
      "  2     9 ms    17 ms    10 ms  10.112.33.41 \n",
      "  3    12 ms    14 ms    12 ms  80.255.196.78 \n",
      "  4     *        *        *     Request timed out.\n",
      "  5    13 ms    10 ms    13 ms  aor.uk-lon03a-ri1.network.virginmedia.net [62.254.42.174] \n",
      "  6     *        *        *     Request timed out.\n",
      "  7    12 ms    12 ms    12 ms  uk-lon01b-ri1-ae-25-0.aorta.net [84.116.136.102] \n",
      "  8     *        *        *     Request timed out.\n",
      "  9    13 ms    12 ms    12 ms  be2871.ccr42.lon13.atlas.cogentco.com [154.54.58.185] \n",
      " 10    24 ms    25 ms    23 ms  be12488.ccr42.ams03.atlas.cogentco.com [130.117.51.42] \n",
      " 11    31 ms    31 ms    31 ms  be2950.ccr42.fra05.atlas.cogentco.com [154.54.72.42] \n",
      " 12    37 ms    35 ms    38 ms  be7944.ccr22.muc03.atlas.cogentco.com [154.54.75.97] \n",
      " 13    40 ms    37 ms    38 ms  be3245.agr12.muc03.atlas.cogentco.com [130.117.50.22] \n",
      " 14    36 ms    38 ms    37 ms  be3237.nr01.b015933-2.muc03.atlas.cogentco.com [154.25.15.178] \n",
      " 15    37 ms    35 ms    36 ms  149.6.156.194 \n",
      " 16     *        *        *     Request timed out.\n",
      " 17    37 ms    35 ms    36 ms  185.53.176.236 \n",
      " 18    36 ms    38 ms    37 ms  185.53.177.52 \n",
      "\n",
      "Trace complete.\n",
      "\n",
      "\n",
      "Tracing route to wikipedia.org [185.15.59.224]\n",
      "over a maximum of 30 hops:\n",
      "\n",
      "  1     2 ms     2 ms     2 ms  192.168.0.1 \n",
      "  2     9 ms     9 ms    10 ms  10.112.33.41 \n",
      "  3    13 ms    10 ms     9 ms  80.255.196.78 \n",
      "  4     *        *        *     Request timed out.\n",
      "  5    22 ms    26 ms    12 ms  aor.uk-lon03a-ri1.network.virginmedia.net [62.254.42.174] \n",
      "  6     *        *        *     Request timed out.\n",
      "  7     *        *        *     Request timed out.\n",
      "  8     *        *        *     Request timed out.\n",
      "  9    27 ms    22 ms    21 ms  nl-ams04a-rb2-lo0-100.aorta.net [213.46.186.10] \n",
      " 10     *        *        *     Request timed out.\n",
      " 11    23 ms    22 ms    23 ms  text-lb.esams.wikimedia.org [185.15.59.224] \n",
      "\n",
      "Trace complete.\n",
      "\n"
     ]
    }
   ],
   "source": [
    "import subprocess\n",
    "\n",
    "def tracert(domain):\n",
    "    try:\n",
    "        result = subprocess.run([\"tracert\", domain], capture_output=True, text=True)\n",
    "        print(result.stdout)\n",
    "    except FileNotFoundError:\n",
    "        print(\"tracert command not found. Make sure it's available.\")\n",
    "    except Exception as e:\n",
    "        print(f\"An error occurred: {e}\")\n",
    "\n",
    "# domain = input(\"Enter the website or IP address: \")\n",
    "\n",
    "#Exercise 2: Experiment with 3 different domain names and IP addresses to see the trace route information\n",
    "domain = [\"gold.ac.uk\", \"185.53.177.52\", \"wikipedia.org\"] \n",
    "\n",
    "for i in domain:    \n",
    "    tracert(i) #Exercise 3: Analyse the output of tracert\n"
   ]
  },
  {
   "cell_type": "markdown",
   "metadata": {},
   "source": [
    "Exercise 4: Identify potential bottlenecks or slow points in the network path for each domain.\n",
    "\n",
    "This can be identified by if the response time for any hop is higher than the others. For example, the 13th hop for coolmathsgames.com could be a potential bottleneck\n",
    "\n",
    "\n",
    "\n",
    "Exercise 5: Experiment trace routes to the same domain from different locations (if possible) to see how the paths might vary.\n",
    "\n",
    "When running tracert from different locations you might see changes in the number of hops, overall latency and timeouts. For example, when running on the Goldsmiths network, time outs appear on every hop, most likely due to some kind of network configuration in place.\n",
    "\n",
    "\n"
   ]
  },
  {
   "cell_type": "markdown",
   "metadata": {},
   "source": [
    "3. Building a Simple HTTP Client \n",
    "\n",
    "Basic example of simulating a web browser"
   ]
  },
  {
   "cell_type": "code",
   "execution_count": 9,
   "metadata": {},
   "outputs": [
    {
     "name": "stdout",
     "output_type": "stream",
     "text": [
      "HTTP/1.1 200 OK\n",
      "Content-Type: text/html\n",
      "ETag: \"84238dfc8092e5d9c0dac8ef93371a07:1736799080.121134\"\n",
      "Last-Modified: Mon, 13 Jan 2025 20:11:20 GMT\n",
      "Cache-Control: max-age=1655\n",
      "Date: Thu, 13 Mar 2025 11:39:02 GMT\n",
      "Content-Length: 1256\n",
      "Connection: keep-alive\n",
      "\n",
      "<!doctype html>\n",
      "<html>\n",
      "<head>\n",
      "    <title>Example Domain</title>\n",
      "\n",
      "    <meta charset=\"utf-8\" />\n",
      "    <meta http-equiv=\"Content-type\" content=\"text/html; charset=utf-8\" />\n",
      "    <meta name=\"viewport\" content=\"width=device-width, initial-scale=1\" />\n",
      "    <style type=\"text/css\">\n",
      "    body {\n",
      "        background-color: #f0f0f2;\n",
      "        margin: 0;\n",
      "        padding: 0;\n",
      "        font-family: -apple-system, system-ui, BlinkMacSystemFont, \"Segoe UI\", \"Open Sans\", \"Helvetica Neue\", Helvetica, Arial, sans-serif;\n",
      "        \n",
      "    }\n",
      "    div {\n",
      "        width: 600px;\n",
      "        margin: 5em auto;\n",
      "        padding: 2em;\n",
      "        background-color: #fdfdff;\n",
      "        border-radius: 0.5em;\n",
      "        box-shadow: 2px 3px 7px 2px rgba(0,0,0,0.02);\n",
      "    }\n",
      "    a:link, a:visited {\n",
      "        color: #38488f;\n",
      "        text-decoration: none;\n",
      "    }\n",
      "    @media (max-width: 700px) {\n",
      "        div {\n",
      "            margin: 0 auto;\n",
      "            width: auto;\n",
      "        }\n",
      "    }\n",
      "    </style>    \n",
      "</head>\n",
      "\n",
      "<body>\n",
      "<div>\n",
      "    <h1>Example Domain</h1>\n",
      "    <p>This domain is for use in illustrative examples in documents. You may use this\n",
      "    domain in literature without prior coordination or asking for permission.</p>\n",
      "    <p><a href=\"https://www.iana.org/domains/example\">More information...</a></p>\n",
      "</div>\n",
      "</body>\n",
      "</html>\n",
      "\n"
     ]
    }
   ],
   "source": [
    "import socket\n",
    "\n",
    "# Create a socket object\n",
    "client_socket = socket.socket(socket.AF_INET, socket.SOCK_STREAM)\n",
    "\n",
    "# Define the server address and port\n",
    "server_address = ('www.example.com', 80)\n",
    "\n",
    "# Connect to the server\n",
    "client_socket.connect(server_address)\n",
    "\n",
    "# Send an HTTP GET request\n",
    "request = \"GET / HTTP/1.1\\r\\nHost: www.example.com\\r\\n\\r\\n\"\n",
    "client_socket.send(request.encode())\n",
    "\n",
    "# Receive the response\n",
    "response = client_socket.recv(4096)\n",
    "print(response.decode())\n",
    "\n",
    "# Close the socket\n",
    "client_socket.close()"
   ]
  },
  {
   "cell_type": "markdown",
   "metadata": {},
   "source": [
    "4. Python Requests library \n",
    "\n",
    "We can re-develop our previous script using the requests libary"
   ]
  },
  {
   "cell_type": "code",
   "execution_count": 3,
   "metadata": {},
   "outputs": [
    {
     "name": "stdout",
     "output_type": "stream",
     "text": [
      "Requirement already satisfied: requests in c:\\users\\kierm\\miniconda3\\lib\\site-packages (2.32.3)\n",
      "Requirement already satisfied: charset-normalizer<4,>=2 in c:\\users\\kierm\\miniconda3\\lib\\site-packages (from requests) (3.3.2)\n",
      "Requirement already satisfied: idna<4,>=2.5 in c:\\users\\kierm\\miniconda3\\lib\\site-packages (from requests) (3.7)\n",
      "Requirement already satisfied: urllib3<3,>=1.21.1 in c:\\users\\kierm\\miniconda3\\lib\\site-packages (from requests) (2.2.2)\n",
      "Requirement already satisfied: certifi>=2017.4.17 in c:\\users\\kierm\\miniconda3\\lib\\site-packages (from requests) (2024.8.30)\n",
      "Note: you may need to restart the kernel to use updated packages.\n"
     ]
    }
   ],
   "source": [
    "%pip install requests"
   ]
  },
  {
   "cell_type": "code",
   "execution_count": 4,
   "metadata": {},
   "outputs": [
    {
     "name": "stdout",
     "output_type": "stream",
     "text": [
      "<!doctype html>\n",
      "<html>\n",
      "<head>\n",
      "    <title>Example Domain</title>\n",
      "\n",
      "    <meta charset=\"utf-8\" />\n",
      "    <meta http-equiv=\"Content-type\" content=\"text/html; charset=utf-8\" />\n",
      "    <meta name=\"viewport\" content=\"width=device-width, initial-scale=1\" />\n",
      "    <style type=\"text/css\">\n",
      "    body {\n",
      "        background-color: #f0f0f2;\n",
      "        margin: 0;\n",
      "        padding: 0;\n",
      "        font-family: -apple-system, system-ui, BlinkMacSystemFont, \"Segoe UI\", \"Open Sans\", \"Helvetica Neue\", Helvetica, Arial, sans-serif;\n",
      "        \n",
      "    }\n",
      "    div {\n",
      "        width: 600px;\n",
      "        margin: 5em auto;\n",
      "        padding: 2em;\n",
      "        background-color: #fdfdff;\n",
      "        border-radius: 0.5em;\n",
      "        box-shadow: 2px 3px 7px 2px rgba(0,0,0,0.02);\n",
      "    }\n",
      "    a:link, a:visited {\n",
      "        color: #38488f;\n",
      "        text-decoration: none;\n",
      "    }\n",
      "    @media (max-width: 700px) {\n",
      "        div {\n",
      "            margin: 0 auto;\n",
      "            width: auto;\n",
      "        }\n",
      "    }\n",
      "    </style>    \n",
      "</head>\n",
      "\n",
      "<body>\n",
      "<div>\n",
      "    <h1>Example Domain</h1>\n",
      "    <p>This domain is for use in illustrative examples in documents. You may use this\n",
      "    domain in literature without prior coordination or asking for permission.</p>\n",
      "    <p><a href=\"https://www.iana.org/domains/example\">More information...</a></p>\n",
      "</div>\n",
      "</body>\n",
      "</html>\n",
      "\n"
     ]
    }
   ],
   "source": [
    "import requests\n",
    "\n",
    "response = requests.get('http://www.example.com')\n",
    "print(response.text)"
   ]
  },
  {
   "cell_type": "markdown",
   "metadata": {},
   "source": [
    "5. HTTP Requests Type \n",
    "\n",
    "Example of using POST requests to send data to a server "
   ]
  },
  {
   "cell_type": "code",
   "execution_count": 4,
   "metadata": {},
   "outputs": [
    {
     "name": "stdout",
     "output_type": "stream",
     "text": [
      "Status Code: 201\n",
      "Response Body: {'title': 'Sample Post', 'body': 'This is an example post body.', 'userId': 1, 'id': 101}\n"
     ]
    }
   ],
   "source": [
    "import requests\n",
    "\n",
    "url = 'https://jsonplaceholder.typicode.com/posts' \n",
    "data = {\n",
    "    \"title\": \"Sample Post\",\n",
    "    \"body\": \"This is an example post body.\",\n",
    "    \"userId\": 1\n",
    "}\n",
    "\n",
    "response = requests.post(url, json=data)\n",
    "print(f\"Status Code: {response.status_code}\")\n",
    "print(\"Response Body:\", response.json())"
   ]
  },
  {
   "cell_type": "markdown",
   "metadata": {},
   "source": [
    "Example of using PUT requests to update an existing resource on the server"
   ]
  },
  {
   "cell_type": "code",
   "execution_count": 5,
   "metadata": {},
   "outputs": [
    {
     "name": "stdout",
     "output_type": "stream",
     "text": [
      "Status Code: 200\n",
      "Updated Resource: {'id': 1, 'title': 'Updated Title', 'body': 'This post content has been updated.', 'userId': 1}\n"
     ]
    }
   ],
   "source": [
    "import requests\n",
    "\n",
    "url = 'https://jsonplaceholder.typicode.com/posts/1' \n",
    "updated_data = { \n",
    "    \"id\": 1, \n",
    "    \"title\": \"Updated Title\", \n",
    "    \"body\": \"This post content has been updated.\", \n",
    "    \"userId\": 1 \n",
    "} \n",
    " \n",
    "response = requests.put(url, json=updated_data) \n",
    "print(f\"Status Code: {response.status_code}\") \n",
    "print(\"Updated Resource:\", response.json()) "
   ]
  },
  {
   "cell_type": "markdown",
   "metadata": {},
   "source": [
    "Example of using DELETE requests to remove a resource from the server"
   ]
  },
  {
   "cell_type": "code",
   "execution_count": 6,
   "metadata": {},
   "outputs": [
    {
     "name": "stdout",
     "output_type": "stream",
     "text": [
      "Status Code: 200\n",
      "Resource successfully deleted.\n"
     ]
    }
   ],
   "source": [
    "import requests \n",
    "\n",
    "url = 'https://jsonplaceholder.typicode.com/posts/1' \n",
    "\n",
    "response = requests.delete(url) \n",
    "print(f\"Status Code: {response.status_code}\") \n",
    "if response.status_code == 200: \n",
    "    print(\"Resource successfully deleted.\") "
   ]
  }
 ],
 "metadata": {
  "kernelspec": {
   "display_name": "base",
   "language": "python",
   "name": "python3"
  },
  "language_info": {
   "codemirror_mode": {
    "name": "ipython",
    "version": 3
   },
   "file_extension": ".py",
   "mimetype": "text/x-python",
   "name": "python",
   "nbconvert_exporter": "python",
   "pygments_lexer": "ipython3",
   "version": "3.12.5"
  }
 },
 "nbformat": 4,
 "nbformat_minor": 2
}
