{
 "cells": [
  {
   "cell_type": "code",
   "execution_count": 1,
   "metadata": {},
   "outputs": [
    {
     "name": "stdout",
     "output_type": "stream",
     "text": [
      "Hello world!\n"
     ]
    }
   ],
   "source": [
    "print(\"Hello world!\")"
   ]
  },
  {
   "cell_type": "code",
   "execution_count": 115,
   "metadata": {},
   "outputs": [
    {
     "name": "stdout",
     "output_type": "stream",
     "text": [
      "Password strong enough!\n"
     ]
    }
   ],
   "source": [
    "#password strength checker\n",
    "password = input(\"Enter your password: \")\n",
    "errorMessage = []\n",
    "\n",
    "\n",
    "\n",
    "if len(password) < 8:\n",
    "    errorMessage.append(\"8 characters\")\n",
    "\n",
    "if password.isupper():\n",
    "    errorMessage.append(\"one lower case letter\")\n",
    "\n",
    "if password.islower():\n",
    "    errorMessage.append(\"one upper case letter\")\n",
    "\n",
    "if password.isalnum():\n",
    "    errorMessage.append(\"one special character\")\n",
    "\n",
    "if len(errorMessage) > 0:\n",
    "        print(\"Your password must contain at least:\")\n",
    "        for i in range(len(errorMessage)):\n",
    "             print(errorMessage[i])\n",
    "else:\n",
    "    print(\"Password strong enough!\")"
   ]
  },
  {
   "cell_type": "code",
   "execution_count": 132,
   "metadata": {},
   "outputs": [
    {
     "name": "stdout",
     "output_type": "stream",
     "text": [
      "['a', 'b', 'c', 'd', 'e']\n",
      "['d', 'e', 'c', 'd', 'e']\n"
     ]
    }
   ],
   "source": [
    "#caesar Cipher\n",
    "message = input(\"Whats your message?\")\n",
    "key = int(input(\"Whats your key?\"))\n",
    "mode = input(\"Are you encrypting or decrypting?\")\n",
    "\n",
    "alphabet = [\"a\", \"b\", \"c\", \"d\", \"e\"]\n",
    "keyalphabet = []\n",
    "\n",
    "for i in range(len(alphabet)):\n",
    "      keyalphabet.append(alphabet[i])\n",
    "\n",
    "for i in range (key):\n",
    "        keyalphabet[len(keyalphabet)-key] = alphabet[i]\n",
    "\n",
    "for i in range (len(keyalphabet) - key):\n",
    "    keyalphabet[i] = alphabet[i+key]\n",
    "\n",
    "print (alphabet)\n",
    "print(keyalphabet)\n",
    "\n"
   ]
  }
 ],
 "metadata": {
  "kernelspec": {
   "display_name": "base",
   "language": "python",
   "name": "python3"
  },
  "language_info": {
   "codemirror_mode": {
    "name": "ipython",
    "version": 3
   },
   "file_extension": ".py",
   "mimetype": "text/x-python",
   "name": "python",
   "nbconvert_exporter": "python",
   "pygments_lexer": "ipython3",
   "version": "3.12.5"
  }
 },
 "nbformat": 4,
 "nbformat_minor": 2
}
