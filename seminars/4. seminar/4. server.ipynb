{
 "cells": [
  {
   "cell_type": "markdown",
   "metadata": {},
   "source": [
    "1. Building a Simple UDP Server "
   ]
  },
  {
   "cell_type": "markdown",
   "metadata": {},
   "source": [
    "A simple UDP server to receive client messages"
   ]
  },
  {
   "cell_type": "code",
   "execution_count": null,
   "metadata": {},
   "outputs": [
    {
     "name": "stdout",
     "output_type": "stream",
     "text": [
      "UDP Server is ready to receive API data...\n"
     ]
    }
   ],
   "source": [
    "import socket \n",
    "\n",
    "server_socket = socket.socket(socket.AF_INET, socket.SOCK_DGRAM) \n",
    "server_socket.bind(('localhost', 65433)) \n",
    "\n",
    "print(\"UDP Server is ready to receive API data...\") \n",
    "\n",
    "while True: \n",
    "    data, client_address = server_socket.recvfrom(2048) \n",
    "    print(f\"Received data from {client_address}: {data.decode()}\") "
   ]
  },
  {
   "cell_type": "markdown",
   "metadata": {},
   "source": [
    "Exercise 1: Using the previous two scripts make a chat application in which clients can chat using a server. "
   ]
  },
  {
   "cell_type": "code",
   "execution_count": null,
   "metadata": {},
   "outputs": [],
   "source": [
    "import socket\n",
    "\n",
    "server_socket = socket.socket(socket.AF_INET, socket.SOCK_DGRAM)\n",
    "server_socket.bind(('localhost', 65433))\n",
    "\n",
    "print(\"UDP Chat Server is ready to receive messages...\")\n",
    "\n",
    "while True:\n",
    "    data, client_address = server_socket.recvfrom(2048)\n",
    "    print(f\"Received message from {client_address}: {data.decode()}\")\n",
    "    \n",
    "    server_socket.sendto(f\"Message received: {data.decode()}\".encode(), client_address)"
   ]
  },
  {
   "cell_type": "markdown",
   "metadata": {},
   "source": [
    "Exercise 2: Let the use make a dictionary with the users IP address"
   ]
  },
  {
   "cell_type": "code",
   "execution_count": null,
   "metadata": {},
   "outputs": [],
   "source": [
    "import socket\n",
    "\n",
    "server_socket = socket.socket(socket.AF_INET, socket.SOCK_DGRAM)\n",
    "server_socket.bind(('localhost', 65433))\n",
    "users = {}\n",
    "\n",
    "print(\"UDP Chat Server is ready to receive messages...\")\n",
    "\n",
    "while True:\n",
    "    data, client_address = server_socket.recvfrom(2048)\n",
    "\n",
    "    if client_address not in users:\n",
    "        users.append(client_address)\n",
    "        print(users)\n",
    "\n",
    "    print(f\"Received message from {client_address}: {data.decode()}\")\n",
    "\n",
    "    server_socket.sendto(f\"Message received: {data.decode()}\".encode(), client_address)"
   ]
  },
  {
   "cell_type": "markdown",
   "metadata": {},
   "source": [
    "Exercise 3: Add authentication step to the application in which the sever would ask the client for username and password to initiate the communication. "
   ]
  },
  {
   "cell_type": "code",
   "execution_count": null,
   "metadata": {},
   "outputs": [],
   "source": []
  },
  {
   "cell_type": "code",
   "execution_count": 1,
   "metadata": {},
   "outputs": [
    {
     "name": "stdout",
     "output_type": "stream",
     "text": [
      "UDP Server is ready to receive API data...\n",
      "[('127.0.0.1', 63263)]\n",
      "Received data from ('127.0.0.1', 63263): \n",
      "message sent back to ('127.0.0.1', 63263) aswell\n",
      "[('127.0.0.1', 63263)]\n",
      "{('127.0.0.1', 63263)}\n",
      "Received data from ('127.0.0.1', 63263): Hello!\n",
      "message sent back to ('127.0.0.1', 63263) aswell\n",
      "[('127.0.0.1', 63263)]\n",
      "{('127.0.0.1', 63263)}\n",
      "Received data from ('127.0.0.1', 63263): \n",
      "message sent back to ('127.0.0.1', 63263) aswell\n",
      "[('127.0.0.1', 63263)]\n",
      "{('127.0.0.1', 63263)}\n",
      "Received data from ('127.0.0.1', 63263): a\n",
      "message sent back to ('127.0.0.1', 63263) aswell\n",
      "[('127.0.0.1', 63263)]\n",
      "{('127.0.0.1', 63263)}\n",
      "Received data from ('127.0.0.1', 63263): \n",
      "message sent back to ('127.0.0.1', 63263) aswell\n",
      "[('127.0.0.1', 63263)]\n",
      "{('127.0.0.1', 63263)}\n",
      "Received data from ('127.0.0.1', 63263): \n",
      "message sent back to ('127.0.0.1', 63263) aswell\n",
      "[('127.0.0.1', 63263)]\n",
      "{('127.0.0.1', 63263)}\n",
      "Received data from ('127.0.0.1', 63263): \n",
      "message sent back to ('127.0.0.1', 63263) aswell\n",
      "[('127.0.0.1', 63263)]\n",
      "{('127.0.0.1', 63263)}\n",
      "Received data from ('127.0.0.1', 63263): \n",
      "message sent back to ('127.0.0.1', 63263) aswell\n",
      "[('127.0.0.1', 63263)]\n",
      "{('127.0.0.1', 63263)}\n",
      "Received data from ('127.0.0.1', 63263): \n",
      "message sent back to ('127.0.0.1', 63263) aswell\n",
      "[('127.0.0.1', 63263)]\n",
      "{('127.0.0.1', 63263)}\n"
     ]
    },
    {
     "ename": "",
     "evalue": "",
     "output_type": "error",
     "traceback": [
      "\u001b[1;31mThe Kernel crashed while executing code in the current cell or a previous cell. \n",
      "\u001b[1;31mPlease review the code in the cell(s) to identify a possible cause of the failure. \n",
      "\u001b[1;31mClick <a href='https://aka.ms/vscodeJupyterKernelCrash'>here</a> for more info. \n",
      "\u001b[1;31mView Jupyter <a href='command:jupyter.viewOutput'>log</a> for further details."
     ]
    }
   ],
   "source": [
    "import socket\n",
    "\n",
    "server_socket = socket.socket(socket.AF_INET, socket.SOCK_DGRAM)\n",
    "server_socket.bind(('localhost', 65433))\n",
    "\n",
    "print(\"UDP Server is ready to receive API data...\")\n",
    "\n",
    "addresses = []\n",
    "\n",
    "while True:\n",
    "    data, client_address = server_socket.recvfrom(2048)\n",
    "\n",
    "    if client_address not in addresses:\n",
    "        addresses.append(client_address)\n",
    "        print(addresses)\n",
    "\n",
    "    print(f\"Received data from {client_address}: {data.decode()}\")\n",
    "\n",
    "    for address in addresses:\n",
    "        if address != addresses:\n",
    "            server_socket.sendto(data, address)\n",
    "            print(f\"message sent back to {address} aswell\")\n",
    "            print(addresses)\n",
    "            print({address})\n"
   ]
  },
  {
   "cell_type": "code",
   "execution_count": null,
   "metadata": {},
   "outputs": [],
   "source": [
    "client_socket = socket.socket(socket.AF_INET, socket.SOCK_DGRAM)\n",
    "\n",
    "# Send message to the server\n",
    "server_socket.sendto(data.decode(), client_address)\n",
    "\n",
    "server_socket.close()\n"
   ]
  },
  {
   "cell_type": "code",
   "execution_count": 2,
   "metadata": {},
   "outputs": [
    {
     "name": "stdout",
     "output_type": "stream",
     "text": [
      "UDP Chat Server is ready to receive messages...\n"
     ]
    },
    {
     "ename": "ConnectionResetError",
     "evalue": "[WinError 10054] An existing connection was forcibly closed by the remote host",
     "output_type": "error",
     "traceback": [
      "\u001b[1;31m---------------------------------------------------------------------------\u001b[0m",
      "\u001b[1;31mConnectionResetError\u001b[0m                      Traceback (most recent call last)",
      "Cell \u001b[1;32mIn[2], line 16\u001b[0m\n\u001b[0;32m     13\u001b[0m encryption_key \u001b[38;5;241m=\u001b[39m \u001b[38;5;241m123\u001b[39m \n\u001b[0;32m     15\u001b[0m \u001b[38;5;28;01mwhile\u001b[39;00m \u001b[38;5;28;01mTrue\u001b[39;00m:\n\u001b[1;32m---> 16\u001b[0m     data, client_address \u001b[38;5;241m=\u001b[39m \u001b[43mserver_socket\u001b[49m\u001b[38;5;241;43m.\u001b[39;49m\u001b[43mrecvfrom\u001b[49m\u001b[43m(\u001b[49m\u001b[38;5;241;43m2048\u001b[39;49m\u001b[43m)\u001b[49m\n\u001b[0;32m     17\u001b[0m     encrypted_message \u001b[38;5;241m=\u001b[39m data\u001b[38;5;241m.\u001b[39mdecode()\n\u001b[0;32m     19\u001b[0m     \u001b[38;5;66;03m# Decrypt the message\u001b[39;00m\n",
      "\u001b[1;31mConnectionResetError\u001b[0m: [WinError 10054] An existing connection was forcibly closed by the remote host"
     ]
    }
   ],
   "source": [
    "import socket\n",
    "\n",
    "def xor_encrypt_decrypt(message, key):\n",
    "    return ''.join(chr(ord(c) ^ key) for c in message)\n",
    "\n",
    "server_socket = socket.socket(socket.AF_INET, socket.SOCK_DGRAM)\n",
    "server_socket.bind(('localhost', 65433))\n",
    "\n",
    "print(\"UDP Chat Server is ready to receive messages...\")\n",
    "\n",
    "users = {}\n",
    "credentials = {'user1': 'password1', 'user2': 'password2'}\n",
    "encryption_key = 123 \n",
    "\n",
    "while True:\n",
    "    data, client_address = server_socket.recvfrom(2048)\n",
    "    encrypted_message = data.decode()\n",
    "    \n",
    "    # Decrypt the message\n",
    "    message = xor_encrypt_decrypt(encrypted_message, encryption_key)\n",
    "    \n",
    "    if message.startswith(\"LOGIN:\"):\n",
    "        username, password = message[6:].split(\":\")\n",
    "        if credentials.get(username) == password:\n",
    "            server_socket.sendto(xor_encrypt_decrypt(\"Authentication successful. You can now chat.\", encryption_key).encode(), client_address)\n",
    "            users[client_address] = username\n",
    "            print(f\"User {username} authenticated from {client_address}\")\n",
    "        else:\n",
    "            server_socket.sendto(xor_encrypt_decrypt(\"Authentication failed. Please try again.\", encryption_key).encode(), client_address)\n",
    "            print(f\"Failed authentication attempt from {client_address}\")\n",
    "    else:\n",
    "        if client_address not in users:\n",
    "            server_socket.sendto(xor_encrypt_decrypt(\"You must authenticate first with LOGIN:<username>:<password>\", encryption_key).encode(), client_address)\n",
    "            continue\n",
    "        \n",
    "        print(f\"Received message from {client_address}: {message}\")\n",
    "        server_socket.sendto(xor_encrypt_decrypt(f\"Message received: {message}\", encryption_key).encode(), client_address)\n"
   ]
  }
 ],
 "metadata": {
  "kernelspec": {
   "display_name": "base",
   "language": "python",
   "name": "python3"
  },
  "language_info": {
   "codemirror_mode": {
    "name": "ipython",
    "version": 3
   },
   "file_extension": ".py",
   "mimetype": "text/x-python",
   "name": "python",
   "nbconvert_exporter": "python",
   "pygments_lexer": "ipython3",
   "version": "3.12.5"
  }
 },
 "nbformat": 4,
 "nbformat_minor": 2
}
