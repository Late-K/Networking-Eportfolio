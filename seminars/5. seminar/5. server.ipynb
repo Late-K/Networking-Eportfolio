{
 "cells": [
  {
   "cell_type": "markdown",
   "metadata": {},
   "source": [
    "1. Building a Simple TCP Server \n",
    "\n",
    "A simple TCP server to accept client connections and echo received messages"
   ]
  },
  {
   "cell_type": "code",
   "execution_count": null,
   "metadata": {},
   "outputs": [
    {
     "name": "stdout",
     "output_type": "stream",
     "text": [
      "TCP Server is listening...\n",
      "Connected to ('127.0.0.1', 63080)\n",
      "Received: hello\n",
      "Connected to ('127.0.0.1', 63090)\n",
      "Received: hello\n"
     ]
    }
   ],
   "source": [
    "import socket \n",
    "\n",
    "# Create a TCP socket \n",
    "server_socket = socket.socket(socket.AF_INET, socket.SOCK_STREAM) \n",
    "server_socket.bind(('localhost', 65432)) \n",
    "server_socket.listen(1)  # Allow 1 pending connection \n",
    "\n",
    "print(\"TCP Server is listening...\") \n",
    "\n",
    "while True: \n",
    "    client_socket, client_address = server_socket.accept() \n",
    "    print(f\"Connected to {client_address}\") \n",
    "\n",
    "    data = client_socket.recv(1024) \n",
    "    print(f\"Received: {data.decode()}\") \n",
    "    \n",
    "    # Echo back the data \n",
    "    client_socket.sendall(b\"ACK: \" + data) \n",
    "    client_socket.close() "
   ]
  },
  {
   "cell_type": "markdown",
   "metadata": {},
   "source": [
    "A simple UDP server to accept client connections and echo received messages"
   ]
  },
  {
   "cell_type": "code",
   "execution_count": null,
   "metadata": {},
   "outputs": [
    {
     "name": "stdout",
     "output_type": "stream",
     "text": [
      "TCP Server is listening...\n",
      "Connected to ('127.0.0.1', 60500)\n",
      "Received: hello\n"
     ]
    }
   ],
   "source": [
    "import socket \n",
    "\n",
    "# Create a UDP socket \n",
    "server_socket = socket.socket(socket.AF_INET, socket.SOCK_DGRAM) \n",
    "server_socket.bind(('localhost', 65432)) \n",
    "\n",
    "print(\"UDP Server is listening...\") \n",
    "\n",
    "while True: \n",
    "    data, client_address = server_socket.recvfrom(1024)\n",
    "    print(f\"Connected to {client_address}\") \n",
    "\n",
    "    print(f\"Received: {data.decode()}\") \n",
    "    \n",
    "    # Echo back the data \n",
    "    server_socket.sendto(b\"ACK: \" + data, client_address)"
   ]
  },
  {
   "cell_type": "markdown",
   "metadata": {},
   "source": [
    "3. Logging data in TXT File Over TCP \n",
    "\n",
    "A TCP server to accept client connections and save data in a txt file"
   ]
  },
  {
   "cell_type": "code",
   "execution_count": null,
   "metadata": {},
   "outputs": [
    {
     "name": "stdout",
     "output_type": "stream",
     "text": [
      "TCP Server is listening...\n",
      "Connected to ('127.0.0.1', 63927)\n"
     ]
    }
   ],
   "source": [
    "import socket \n",
    "\n",
    "# Create a TCP socket \n",
    "server_socket = socket.socket(socket.AF_INET, socket.SOCK_STREAM) \n",
    "server_socket.bind(('localhost', 65432)) \n",
    "server_socket.listen(1)  # Allow 1 pending connection \n",
    "\n",
    "print(\"TCP Server is listening...\") \n",
    "\n",
    "while True: \n",
    "    client_socket, client_address = server_socket.accept() \n",
    "    print(f\"Connected to {client_address}\") \n",
    "\n",
    "    # ... (Server setup code) \n",
    "    with open('received_file.txt', 'wb') as f: \n",
    "        while True: \n",
    "            data = client_socket.recv(1024) \n",
    "            if not data: \n",
    "                break \n",
    "            f.write(data) \n",
    "    print(\"File received!\") \n",
    "    \n",
    "    # Echo back the data \n",
    "    client_socket.sendall(b\"ACK: File received successfully\") \n",
    "\n",
    "    client_socket.close() "
   ]
  },
  {
   "cell_type": "markdown",
   "metadata": {},
   "source": [
    "Exercise 4: Resend the new txt file using UDP and compare \n",
    "the time needed.  "
   ]
  },
  {
   "cell_type": "code",
   "execution_count": null,
   "metadata": {},
   "outputs": [
    {
     "name": "stdout",
     "output_type": "stream",
     "text": [
      "UDP Server is listening...\n"
     ]
    }
   ],
   "source": [
    "import socket \n",
    "\n",
    "# Create a UDP socket \n",
    "server_socket = socket.socket(socket.AF_INET, socket.SOCK_DGRAM) \n",
    "server_socket.bind(('localhost', 65432)) \n",
    "\n",
    "print(\"UDP Server is listening...\") \n",
    "\n",
    "while True: \n",
    "    data, client_address = server_socket.recvfrom(1024)\n",
    "    print(f\"Connected to {client_address}\") \n",
    "\n",
    "    # ... (Server setup code) \n",
    "    with open('received_file.txt', 'wb') as f: \n",
    "        while True: \n",
    "            data = client_socket.recv(1024) \n",
    "            if not data: \n",
    "                break \n",
    "            f.write(data) \n",
    "    print(\"File received!\") \n",
    "    \n",
    "    # Echo back the data \n",
    "    server_socket.sendto(b\"ACK: \" + data, client_address)\n",
    "\n",
    "    import socket "
   ]
  },
  {
   "cell_type": "markdown",
   "metadata": {},
   "source": [
    "TCP server to recieve png files instead of txt"
   ]
  },
  {
   "cell_type": "code",
   "execution_count": null,
   "metadata": {},
   "outputs": [
    {
     "name": "stdout",
     "output_type": "stream",
     "text": [
      "TCP Server is listening...\n",
      "Connected to ('127.0.0.1', 62624)\n",
      "File received!\n",
      "Connected to ('127.0.0.1', 62724)\n",
      "File received!\n"
     ]
    }
   ],
   "source": [
    "import socket\n",
    "\n",
    "# Create a TCP socket\n",
    "server_socket = socket.socket(socket.AF_INET, socket.SOCK_STREAM)\n",
    "server_socket.bind(('localhost', 65432))\n",
    "server_socket.listen(1) # Allow 1 pending connection\n",
    "\n",
    "print(\"TCP Server is listening...\")\n",
    "\n",
    "while True:\n",
    "    client_socket, client_address = server_socket.accept()\n",
    "    print(f\"Connected to {client_address}\")\n",
    " \n",
    "# ... (Server setup code)\n",
    "    with open('received_file.png', 'wb') as f:\n",
    "        # while True:\n",
    "        data = client_socket.recv(1024)\n",
    "            # print(f\"Received\")\n",
    "        if not data:\n",
    "            print(\"no data\")\n",
    "            break\n",
    "        f.write(data)\n",
    "            # print(\"writing data\")\n",
    "    print(\"File received!\")\n",
    "    client_socket.sendall(b\"ACK\")\n",
    "\n",
    "    client_socket.close()"
   ]
  }
 ],
 "metadata": {
  "kernelspec": {
   "display_name": "base",
   "language": "python",
   "name": "python3"
  },
  "language_info": {
   "codemirror_mode": {
    "name": "ipython",
    "version": 3
   },
   "file_extension": ".py",
   "mimetype": "text/x-python",
   "name": "python",
   "nbconvert_exporter": "python",
   "pygments_lexer": "ipython3",
   "version": "3.12.5"
  }
 },
 "nbformat": 4,
 "nbformat_minor": 2
}
