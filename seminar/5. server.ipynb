{
 "cells": [
  {
   "cell_type": "code",
   "execution_count": null,
   "metadata": {},
   "outputs": [
    {
     "name": "stdout",
     "output_type": "stream",
     "text": [
      "TCP Server is listening...\n",
      "Connected to ('127.0.0.1', 59904)\n",
      "File received!\n",
      "Connected to ('127.0.0.1', 59905)\n",
      "File received!\n",
      "Connected to ('127.0.0.1', 59910)\n",
      "File received!\n",
      "Connected to ('127.0.0.1', 59916)\n",
      "File received!\n"
     ]
    }
   ],
   "source": [
    "import socket\n",
    "\n",
    "# Create a TCP socket\n",
    "server_socket = socket.socket(socket.AF_INET, socket.SOCK_STREAM)\n",
    "server_socket.bind(('localhost', 65432))\n",
    "server_socket.listen(1) # Allow 1 pending connection\n",
    "\n",
    "print(\"TCP Server is listening...\")\n",
    "\n",
    "while True:\n",
    "    client_socket, client_address = server_socket.accept()\n",
    "    print(f\"Connected to {client_address}\")\n",
    " \n",
    "# ... (Server setup code)\n",
    "    with open('received_file.png', 'wb') as f:\n",
    "        # while True:\n",
    "        data = client_socket.recv(1024)\n",
    "            # print(f\"Received\")\n",
    "        if not data:\n",
    "            print(\"no data\")\n",
    "            break\n",
    "        f.write(data)\n",
    "            # print(\"writing data\")\n",
    "    print(\"File received!\")\n",
    "    client_socket.sendall(b\"ACK\")\n",
    "\n",
    "    client_socket.close()"
   ]
  }
 ],
 "metadata": {
  "kernelspec": {
   "display_name": "base",
   "language": "python",
   "name": "python3"
  },
  "language_info": {
   "codemirror_mode": {
    "name": "ipython",
    "version": 3
   },
   "file_extension": ".py",
   "mimetype": "text/x-python",
   "name": "python",
   "nbconvert_exporter": "python",
   "pygments_lexer": "ipython3",
   "version": "3.12.5"
  }
 },
 "nbformat": 4,
 "nbformat_minor": 2
}
