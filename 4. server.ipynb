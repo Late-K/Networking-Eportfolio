{
 "cells": [
  {
   "cell_type": "code",
   "execution_count": 1,
   "metadata": {},
   "outputs": [
    {
     "name": "stdout",
     "output_type": "stream",
     "text": [
      "UDP Server is ready to receive API data...\n",
      "Received data from ('127.0.0.1', 64618): hello\n",
      "[('127.0.0.1', 64618)]\n",
      "Received data from ('127.0.0.1', 50274): helo two\n",
      "[('127.0.0.1', 64618), ('127.0.0.1', 50274)]\n",
      "[('127.0.0.1', 64618), ('127.0.0.1', 50274)]\n",
      "Received data from ('127.0.0.1', 64618): cool\n",
      "[('127.0.0.1', 64618), ('127.0.0.1', 50274)]\n",
      "Received data from ('127.0.0.1', 50274): working\n",
      "[('127.0.0.1', 64618), ('127.0.0.1', 50274)]\n",
      "Received data from ('127.0.0.1', 64618): very nice\n",
      "[('127.0.0.1', 64618), ('127.0.0.1', 50274)]\n",
      "Received data from ('127.0.0.1', 50274): \n",
      "Received data from ('127.0.0.1', 51562): hello everybody\n",
      "[('127.0.0.1', 64618), ('127.0.0.1', 50274), ('127.0.0.1', 51562)]\n",
      "[('127.0.0.1', 64618), ('127.0.0.1', 50274), ('127.0.0.1', 51562)]\n",
      "[('127.0.0.1', 64618), ('127.0.0.1', 50274), ('127.0.0.1', 51562)]\n"
     ]
    },
    {
     "ename": "ConnectionResetError",
     "evalue": "[WinError 10054] An existing connection was forcibly closed by the remote host",
     "output_type": "error",
     "traceback": [
      "\u001b[1;31m---------------------------------------------------------------------------\u001b[0m",
      "\u001b[1;31mConnectionResetError\u001b[0m                      Traceback (most recent call last)",
      "Cell \u001b[1;32mIn[1], line 11\u001b[0m\n\u001b[0;32m      8\u001b[0m addresses \u001b[38;5;241m=\u001b[39m []\n\u001b[0;32m     10\u001b[0m \u001b[38;5;28;01mwhile\u001b[39;00m \u001b[38;5;28;01mTrue\u001b[39;00m:\n\u001b[1;32m---> 11\u001b[0m     data, client_address \u001b[38;5;241m=\u001b[39m \u001b[43mserver_socket\u001b[49m\u001b[38;5;241;43m.\u001b[39;49m\u001b[43mrecvfrom\u001b[49m\u001b[43m(\u001b[49m\u001b[38;5;241;43m2048\u001b[39;49m\u001b[43m)\u001b[49m\n\u001b[0;32m     13\u001b[0m     \u001b[38;5;28mprint\u001b[39m(\u001b[38;5;124mf\u001b[39m\u001b[38;5;124m\"\u001b[39m\u001b[38;5;124mReceived data from \u001b[39m\u001b[38;5;132;01m{\u001b[39;00mclient_address\u001b[38;5;132;01m}\u001b[39;00m\u001b[38;5;124m: \u001b[39m\u001b[38;5;132;01m{\u001b[39;00mdata\u001b[38;5;241m.\u001b[39mdecode()\u001b[38;5;132;01m}\u001b[39;00m\u001b[38;5;124m\"\u001b[39m)\n\u001b[0;32m     15\u001b[0m     \u001b[38;5;28;01mif\u001b[39;00m client_address \u001b[38;5;129;01mnot\u001b[39;00m \u001b[38;5;129;01min\u001b[39;00m addresses:\n",
      "\u001b[1;31mConnectionResetError\u001b[0m: [WinError 10054] An existing connection was forcibly closed by the remote host"
     ]
    }
   ],
   "source": [
    "import socket\n",
    "\n",
    "server_socket = socket.socket(socket.AF_INET, socket.SOCK_DGRAM)\n",
    "server_socket.bind(('localhost', 65433))\n",
    "\n",
    "print(\"UDP Server is ready to receive API data...\")\n",
    "\n",
    "addresses = []\n",
    "\n",
    "while True:\n",
    "    data, client_address = server_socket.recvfrom(2048)\n",
    "\n",
    "    print(f\"Received data from {client_address}: {data.decode()}\")\n",
    "\n",
    "    if client_address not in addresses:\n",
    "        addresses.append(client_address)\n",
    "        print (addresses)\n",
    "\n",
    "    if data:\n",
    "        for client in addresses:\n",
    "            if client_address != client:\n",
    "                server_socket.sendto(data, client)\n",
    "                print(addresses)\n"
   ]
  },
  {
   "cell_type": "code",
   "execution_count": null,
   "metadata": {},
   "outputs": [],
   "source": [
    "client_socket = socket.socket(socket.AF_INET, socket.SOCK_DGRAM)\n",
    "\n",
    "# Send message to the server\n",
    "server_socket.sendto(data.decode(), client_address)\n",
    "\n",
    "server_socket.close()\n"
   ]
  }
 ],
 "metadata": {
  "kernelspec": {
   "display_name": "base",
   "language": "python",
   "name": "python3"
  },
  "language_info": {
   "codemirror_mode": {
    "name": "ipython",
    "version": 3
   },
   "file_extension": ".py",
   "mimetype": "text/x-python",
   "name": "python",
   "nbconvert_exporter": "python",
   "pygments_lexer": "ipython3",
   "version": "3.12.5"
  }
 },
 "nbformat": 4,
 "nbformat_minor": 2
}
